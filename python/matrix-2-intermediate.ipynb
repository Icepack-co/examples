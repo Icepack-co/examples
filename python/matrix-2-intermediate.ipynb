{
 "cells": [
  {
   "cell_type": "markdown",
   "metadata": {},
   "source": [
    "# Matrix-model Intermediate Example\n",
    "This example aims to highlight the follow:\n",
    "* build a partial matrix of distances/times between a collection of sources and destinations\n",
    "\n",
    "## Requirements\n",
    "This example assumes you've configured an api-key with the required services enabled (see the [portal](portal.icepack.ai) for configuration details) and that you're familiar with loading and working with protobuf models.\n",
    "\n",
    "## Data\n",
    "We're going to load a small sample data set (just 6 locations) and generate a subset of distances between them.\n"
   ]
  },
  {
   "cell_type": "code",
   "execution_count": null,
   "metadata": {},
   "outputs": [],
   "source": [
    "import pandas\n",
    "df = pandas.read_csv('../../sample_data/publist.csv').head(6)\n",
    "print(df.head())"
   ]
  },
  {
   "cell_type": "markdown",
   "metadata": {},
   "source": [
    "## Model helper\n",
    "There are several common code-snippets which are useful when working with the icepack models. We use the same standard for post/get queries for all models. We're going to use the api helper in this context to help manage the calls to the api.\n",
    "\n",
    "We're going to:\n",
    "1. load the helper\n",
    "2. instantiate a matrix model request wiht a partial matrix request (two sources to four destinations)\n",
    "3. populate the request\n",
    "4. post the request (helper class)\n",
    "5. get the response (helper class)\n",
    "\n",
    "### Build the request"
   ]
  },
  {
   "cell_type": "code",
   "execution_count": null,
   "metadata": {},
   "outputs": [],
   "source": [
    "exec(open('apiHelper.py').read()) # import some api-helper classes which we've written for you.\n",
    "\n",
    "api = apiHelper(modelType=\"matrix-vyv95n7wchpl\") # set the model type to the matrix model\n",
    "\n",
    "mr = matrix_vyv95n7wchpl_pb2.MatrixRequest()\n",
    "\n",
    "for index, row in df.iterrows():\n",
    "    l = matrix_vyv95n7wchpl_pb2.Location()\n",
    "    l.id = row.id\n",
    "    l.geocode.longitude = row.X\n",
    "    l.geocode.latitude = row.Y\n",
    "    mr.locations.append(l)                    # add the location definition to the list of locations\n",
    "    if index < 2:\n",
    "        mr.sources.append(row.id)             # add the first two locations as sources\n",
    "    else:\n",
    "        mr.destinations.append(row.id)        # and the remaining four locations as destinations\n",
    "\n",
    "mr.distanceUnit = 0\n",
    "mr.durationUnit = 1\n",
    "print(mr)\n"
   ]
  },
  {
   "cell_type": "markdown",
   "metadata": {},
   "source": [
    "We would expect this to create a 2x4 matrix. locations 1:2 to locations 3:6 which will returns a total of 8 (2 * 4) elements.\n",
    "### Run the model\n"
   ]
  },
  {
   "cell_type": "code",
   "execution_count": null,
   "metadata": {},
   "outputs": [],
   "source": [
    "reqId = api.Post(mr)  # send the request\n",
    "print(reqId) # if you want to see what the guid looks like.\n",
    "sol = api.Get(reqId)  # get the response\n"
   ]
  },
  {
   "cell_type": "code",
   "execution_count": null,
   "metadata": {},
   "outputs": [],
   "source": [
    "print(len(sol.elements)) # the number of elements returned by the api - which is 8 - Hooray!"
   ]
  },
  {
   "cell_type": "markdown",
   "metadata": {},
   "source": [
    "### Some notes\n",
    "You'll see we get 8 elements in the response from the api - which was expected (2x4)\n",
    "\n",
    "We can tabulate the response by calling the `tabulate` method we've bundled here."
   ]
  },
  {
   "cell_type": "code",
   "execution_count": null,
   "metadata": {},
   "outputs": [],
   "source": [
    "matrix = tabulate(mr, sol)\n",
    "matrix\n"
   ]
  },
  {
   "cell_type": "markdown",
   "metadata": {},
   "source": [
    "This matrix is expressed in long-form. Nothing wrong with that, but you might prefer to see it in wide form. Pandas has a nice function for this.\n"
   ]
  },
  {
   "cell_type": "code",
   "execution_count": null,
   "metadata": {},
   "outputs": [],
   "source": [
    "import numpy as np\n",
    "dm = pandas.crosstab(index= matrix['fromId'], \n",
    "                columns=matrix['toId'], \n",
    "                values = matrix['distance'], aggfunc = np.sum).fillna(0)\n",
    "\n",
    "# this creates a distance matrix \n",
    "dm"
   ]
  },
  {
   "cell_type": "code",
   "execution_count": null,
   "metadata": {},
   "outputs": [],
   "source": [
    "tm = pandas.crosstab(index= matrix['fromId'], \n",
    "                columns=matrix['toId'], \n",
    "                values = matrix['duration'], aggfunc = np.sum).fillna(0)\n",
    "#and this creates a time matrix\n",
    "tm"
   ]
  },
  {
   "cell_type": "markdown",
   "metadata": {},
   "source": [
    "### What next?\n",
    "This is about as complicated as a matrix request gets luckily :-) \n",
    "\n",
    "_It's worth noting that we limit the matrix size to 160,000 elements as a maximum request (so a 400x400 or thereabouts)._"
   ]
  }
 ],
 "metadata": {
  "kernelspec": {
   "display_name": "Python 3",
   "language": "python",
   "name": "python3"
  },
  "language_info": {
   "codemirror_mode": {
    "name": "ipython",
    "version": 3
   },
   "file_extension": ".py",
   "mimetype": "text/x-python",
   "name": "python",
   "nbconvert_exporter": "python",
   "pygments_lexer": "ipython3",
   "version": "3.6.9"
  }
 },
 "nbformat": 4,
 "nbformat_minor": 4
}
