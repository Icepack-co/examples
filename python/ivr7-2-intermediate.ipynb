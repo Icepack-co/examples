{
 "cells": [
  {
   "cell_type": "markdown",
   "metadata": {},
   "source": [
    "# IVR7 Intermediate Example\n",
    "This example aims to highlight the follow:\n",
    "* using time, distance and a single capacity dimension\n",
    "* Illustrates using time, distance and a single capacity dimension\n",
    "* Location-windows (08:00 -> 14:00)\n",
    "* Pickup-dropoff tasks (with task-times)\n",
    "* One vehicle class (same travel profile)\n",
    "* Two vehicle-cost classes\n",
    "* Multiple vehicles (2xc1, 3xc2)\n",
    "* Heterogeneous fleet (2 ton and 3 ton capacity)\n",
    "* Lunch breaks (1 hour break around 12:00)\n",
    "\n",
    "\n",
    "## Requirements\n",
    "This example assumes you've configured an api-key with the required services enabled (see the [portal](portal.icepack.ai) for configuration details) and that you're familiar with loading and working with protobuf models.\n",
    "\n",
    "## Data\n",
    "We're going to load sample data which has order sizes and durations in a tabular format.\n"
   ]
  },
  {
   "cell_type": "code",
   "execution_count": null,
   "metadata": {},
   "outputs": [],
   "source": [
    "import pandas\n",
    "df = pandas.read_csv('../sample_data/publist_orders.csv')\n",
    "print(df.head())"
   ]
  },
  {
   "cell_type": "markdown",
   "metadata": {},
   "source": [
    "## Model Configuration\n",
    "This model builds on the ivr7-basic example.\n",
    "The same dimensions (distance,time and capacity) are used:"
   ]
  },
  {
   "cell_type": "code",
   "execution_count": null,
   "metadata": {
    "scrolled": true
   },
   "outputs": [],
   "source": [
    "exec(open('apiHelper.py').read()) # import some api-helper classes which we've written for you.\n",
    "exec(open('ivr7-model-helper.py').read()) # import some modelling helpers\n",
    "\n",
    "\n",
    "api = apiHelper(modelType=\"ivr7-kt461v8eoaif\") # set the model type to the ivr7 model\n",
    "\n",
    "sr = ivr7_kt461v8eoaif_pb2.SolveRequest()\n",
    "sr.solveType = 0 # optimise solve request\n",
    "\n",
    "m = sr.model\n",
    "\n",
    "m.dimensions.CopyFrom(make_distance_time_cap_dims())\n",
    "\n",
    "print(m)\n"
   ]
  },
  {
   "cell_type": "markdown",
   "metadata": {},
   "source": [
    "## Locations\n",
    "\n",
    "We're going to treat the first point as where vehicles are going to begin and end each day. Unlike the tsp/cvrp/pdp models, the ivr7 requires that you specify the unique locations that are going to be used in the model as a separate entity. The reason for this is that you can then specify the locations once, and reference those locations by id for other entities (such and vehicles/jobs/tasks).\n",
    "\n",
    "We're going to add arrival windows to the locations (08:00 - 14:00). We can do this by first building the locations (as before) and then adding a window attribute to each location. This constraint means that we're required to arrive between the specified start and end."
   ]
  },
  {
   "cell_type": "code",
   "execution_count": null,
   "metadata": {},
   "outputs": [],
   "source": [
    "del m.locations[:] # just in case you're running this twice, clear the field before extending it.\n",
    "m.locations.extend(make_locations(df)) #using the wrapper function\n",
    "\n",
    "\n",
    "\n",
    "la = ivr7_kt461v8eoaif_pb2.Location.Attribute()\n",
    "la.dimensionId = 'time'\n",
    "la.quantity = 0 # if you have a fixed time for entering a location you could place it here\n",
    "w = ivr7_kt461v8eoaif_pb2.Window()\n",
    "w.start = 8*60\n",
    "w.end = 14*60\n",
    "la.arrivalWindows.append(w)\n",
    "\n",
    "for i in range(0, len(m.locations)):\n",
    "    m.locations[i].attributes.append(la)\n",
    "\n",
    "print(str(len(m.locations)) + \" locations\\n\")\n",
    "# check the first locations' configuration\n",
    "print(m.locations[0])"
   ]
  },
  {
   "cell_type": "markdown",
   "metadata": {},
   "source": [
    "## Jobs\n",
    "For each job, there is a unique ID, a penalty to be applied if the job is not completed as well as associated tasks.\n",
    "\n",
    "Jobs with higher penalties will be prioritised over jobs with lower penalties.\n",
    "\n",
    "### Tasks\n",
    "Jobs also have associated tasks with each task occuring at assigned locations and must be completed by the same vehicle. If one task cannot be completed then the entire job will unperformed in the solution. If a job is unperformed, it will be returned in the Infeasibilites message of the solution along with reasons as to why it could not be completed.\n",
    "\n",
    "We've constructed some jobs with pickups and dropoffs, loading and offload times, as well as the contribution to the capacity dimension (through the attributes). In this example, all pickup up orders originate at the guiness storehouse and deliver to each customer in the list. `make_job_time_cap` is just a simple function to create this particular style of request, but you can make your own.\n",
    " \n",
    "### Dimension - Capacity\n",
    "A positive quantity value indicates goods being added to the vehicle and a negative quantity value indicates goods being removed from the vehicle.\n"
   ]
  },
  {
   "cell_type": "code",
   "execution_count": null,
   "metadata": {},
   "outputs": [],
   "source": [
    "njobs = (df.shape[0])\n",
    "src = [0] * (njobs-1)\n",
    "dest =  range(1, njobs)\n",
    "\n",
    "del m.jobs[:]\n",
    "m.jobs.extend(make_job_time_cap(df, src, dest))\n",
    "# lets inspect just the first job created\n",
    "print(m.jobs[0])"
   ]
  },
  {
   "cell_type": "markdown",
   "metadata": {},
   "source": [
    "### Vehicle Cost Classes\n",
    "In this example we're going to create two vehicle cost classes. One which is cheaper on marginal costs (distance and time), but more expensive in fixed cost. Similarly, the second class is cheaper in fixed cost, but more expensive on marginal (travel and time) costs."
   ]
  },
  {
   "cell_type": "code",
   "execution_count": null,
   "metadata": {},
   "outputs": [],
   "source": [
    "del m.vehicleCostClasses[:]\n",
    "m.vehicleCostClasses.append(make_vcc_simple('vcc1', 1000, 1.001e-2, 1.001e-2, 1.001e-2, 1, 3))\n",
    "m.vehicleCostClasses.append(make_vcc_simple('vcc2', 1200, 1.001e-1, 1.001e-1, 1.001e-1, 0.6, 2.5))\n",
    "print(m.vehicleCostClasses)"
   ]
  },
  {
   "cell_type": "markdown",
   "metadata": {},
   "source": [
    "### Vehicle Class\n",
    "A vehicle class describes how the vehicle moves through the network. In other words, we can use the standard network travel speeds, or we could make the vehicle move slower/faster relative to the road network. We could also attach transit rules here which are great for modelling lunch breaks, refueling stops etc. (i.e. conditional triggers on the cumul values of the dimension). Transit rules are covered in advanced examples.\n",
    "In this example, we're still going to create one \"movement\" class:\n"
   ]
  },
  {
   "cell_type": "code",
   "execution_count": null,
   "metadata": {},
   "outputs": [],
   "source": [
    "del m.vehicleClasses[:]\n",
    "m.vehicleClasses.append(make_vc_simple('vc1', 1, 1, 1, 1))\n",
    "print(\"Vehicle Classes\")\n",
    "print(m.vehicleClasses)"
   ]
  },
  {
   "cell_type": "markdown",
   "metadata": {},
   "source": [
    "### Vehicles\n",
    "The solver requires a fixed number of vehicle instances to work with. In this model, we can create 5 vehicles all starting and ending their day at the depot. Our 5 vehicels are going to consist of:\n",
    "* 2 x two-ton vehicles  (capacity limit 2000)\n",
    "* 3 x three-ton vehicles (capacity limit 3000)\n",
    "\n",
    "We're doing this in code here to minimise the sample data required, but you can link this up to another table or input data stream as needed."
   ]
  },
  {
   "cell_type": "code",
   "execution_count": null,
   "metadata": {},
   "outputs": [],
   "source": [
    "del m.vehicles[:]\n",
    "for i in range(1,5):\n",
    "    vcc = 'vcc1'\n",
    "    vcap = 2000\n",
    "    if i >= 3:\n",
    "        vcap = 3000\n",
    "        vcc = 'vcc2'\n",
    "      \n",
    "    m.vehicles.append( make_vehicle_cap('vehicle_' + str(i), 'vc1', vcc,\n",
    "                                        vcap, # the vehicle capacity\n",
    "                                       df['id'][0], # the start location\n",
    "                                       df['id'][0], # the end location\n",
    "                                       7*60,        # the start time (7AM)\n",
    "                                       18*60))       # the end time  (6PM)\n",
    "print(\"Vehicle 1\")\n",
    "print(m.vehicles[0])\n",
    "print(\"Vehicle 3\")\n",
    "print(m.vehicles[2]) # note the capacities are different for these two vehicles."
   ]
  },
  {
   "cell_type": "markdown",
   "metadata": {},
   "source": [
    "### Sending the model\n",
    "We now have a complete model specified so we can submit it to the api."
   ]
  },
  {
   "cell_type": "code",
   "execution_count": null,
   "metadata": {},
   "outputs": [],
   "source": [
    "reqId = api.Post(sr)\n",
    "print(reqId) # if you want to see what the guid looks like."
   ]
  },
  {
   "cell_type": "markdown",
   "metadata": {},
   "source": [
    "### Retrieve the model response\n",
    "We can use the api-helper to grab the solution response using the request-id provided by the post."
   ]
  },
  {
   "cell_type": "code",
   "execution_count": null,
   "metadata": {},
   "outputs": [],
   "source": [
    "sol = api.Get(reqId)\n",
    "\n",
    "print(sol.objective) # This is the cost of the solution returned by the api.\n"
   ]
  },
  {
   "cell_type": "markdown",
   "metadata": {},
   "source": [
    "### Tabluating the response\n",
    "\n",
    "It's quite convenient to table the response data from the api into a collection of stops (nodes) and inter-stops (edges). The reason for this separation between nodes and edges is that they represent different states in the model. Node dimensional quantities refer to quantities incurred while _standing_ and, by contrast, when talking about edges the quantities refer to the _movement_ between tasks. \n"
   ]
  },
  {
   "cell_type": "code",
   "execution_count": null,
   "metadata": {},
   "outputs": [],
   "source": [
    "print(sol.routes[0])"
   ]
  },
  {
   "cell_type": "code",
   "execution_count": null,
   "metadata": {},
   "outputs": [],
   "source": [
    "t = tabulate(sr, sol) # pass in the solve request (we grab the locations from the mode) and the solution response\n",
    "print(t.keys())\n",
    "print(\"node table has \" + str(t['nodes'].shape[0]) + ' rows and ' + str(t['nodes'].shape[1]) + ' colums' )\n",
    "print(\"edge table has \" + str(t['edges'].shape[0]) + ' rows and ' + str(t['edges'].shape[1]) + ' colums' )"
   ]
  },
  {
   "cell_type": "markdown",
   "metadata": {},
   "source": [
    "### Inspecting the tabulated result\n",
    "\n",
    "Lets start with the stop-table (or node data):\n"
   ]
  },
  {
   "cell_type": "code",
   "execution_count": null,
   "metadata": {},
   "outputs": [],
   "source": [
    "t['nodes']\n"
   ]
  },
  {
   "cell_type": "markdown",
   "metadata": {},
   "source": [
    "Similarly for the edges, we can check the table. Note that the geometries for the edges have been compressed into a list object within each row  (this makes things a touch easier for plotting). \n",
    "\n"
   ]
  },
  {
   "cell_type": "code",
   "execution_count": null,
   "metadata": {},
   "outputs": [],
   "source": [
    "t['edges']\n"
   ]
  },
  {
   "cell_type": "markdown",
   "metadata": {},
   "source": [
    "### Visualising the response\n",
    "\n",
    "Lets go ahead and visualise the routes.\n"
   ]
  },
  {
   "cell_type": "code",
   "execution_count": null,
   "metadata": {
    "scrolled": true
   },
   "outputs": [],
   "source": [
    "from ipyleaflet import Map, Polyline, Circle, LayerGroup\n",
    "\n",
    "cvec = list(['blue', 'red', 'orange', 'green', 'black'])\n",
    "cdict = {}\n",
    "for i in range(0,5):\n",
    "    cdict['vehicle_' + str(i)] = cvec[i]\n",
    "\n",
    "\n",
    "# form some locations to add to the map (just green dots seems ok)\n",
    "locs = list()\n",
    "for index, p in t['nodes'].iterrows():\n",
    "    circle = Circle()\n",
    "    circle.location = (p['y'], p['x'])\n",
    "    circle.radius = 10\n",
    "    circle.color = \"green\"\n",
    "    locs.append(circle)\n",
    "\n",
    "center = [df['Y'][1],df['X'][1]] # just use the first point as the center (i.e. the depot)\n",
    "m = Map(scroll_wheel_zoom=True, center=center, zoom=12)\n",
    "for i, gs in enumerate(t['edges']['geometry']):\n",
    "    m.add_layer(Polyline(locations=gs,color=cdict[t['edges']['vehicleId'][i]],fill=False))\n",
    "\n",
    "m.add_layer(LayerGroup(layers=(locs)))\n",
    "m"
   ]
  },
  {
   "cell_type": "markdown",
   "metadata": {},
   "source": [
    "### Transit Rules\n",
    "We can create a simple example which uses a lunch break. We have a lot of control over how a lunch-break is executed in the solver. For example,  we can specify where the lunchbreak may occur between stops, at stops, or either. We recommend a read through the specification in the [documentation](https://docs.scrudu.io/ivr/transit-rule/). In this example, we're going to create a lunch break rule which specifies a 60 minute break needs to be taken in the first spot available after 12:00."
   ]
  },
  {
   "cell_type": "code",
   "execution_count": null,
   "metadata": {},
   "outputs": [],
   "source": [
    "m = sr.model # we accidentally killed this object above when we created the map :-) just link to it again!\n",
    "del m.transitRules[:]\n",
    "m.transitRules.append(make_lunch_break_rule('lunch_break_rule', 'lunchy_munchy_', 12*60, 60))\n",
    "\n",
    "m.vehicleClasses[0].transitRuleIds.append('lunch_break_rule') # assign the transit rule to the vehicle-class\n",
    "\n",
    "print(m.transitRules) \n",
    "# the rule is \"trigger\" based. So when we pass a certain \"value\" apply the following \"quantity\""
   ]
  },
  {
   "cell_type": "markdown",
   "metadata": {},
   "source": [
    "### Rerun the model and grab the results\n"
   ]
  },
  {
   "cell_type": "code",
   "execution_count": null,
   "metadata": {},
   "outputs": [],
   "source": [
    "reqId = api.Post(sr)\n",
    "sol = api.Get(reqId)\n",
    "print(sol.objective) # This is the cost of the solution returned by the api.\n",
    "t = tabulate(sr, sol) # pass in the solve request (we grab the locations from the mode) and the solution response\n"
   ]
  },
  {
   "cell_type": "markdown",
   "metadata": {},
   "source": [
    "### Recovering the transit rules\n",
    "The result returned by the solver includes a special section called `transitRuleAttributes` for each route which details where the points are wher ea vehicle exeutes a transit rule. In the example below, we can see that a 60 minute interval is applied to the time dimension at the first time junction which spans 720 minutes (i.e. 12:00) \n"
   ]
  },
  {
   "cell_type": "code",
   "execution_count": null,
   "metadata": {},
   "outputs": [],
   "source": [
    "for _, e in enumerate(sol.routes):\n",
    "    if len(e.transitRuleAttributes) > 0:\n",
    "        print(e.transitRuleAttributes)\n"
   ]
  },
  {
   "cell_type": "markdown",
   "metadata": {},
   "source": [
    "### Tabulated transit rules\n",
    "We can also pull out the tabulated transit rules from the helper function. Makes things a touch easier to read:"
   ]
  },
  {
   "cell_type": "code",
   "execution_count": null,
   "metadata": {},
   "outputs": [],
   "source": [
    "t['transitrules']"
   ]
  },
  {
   "cell_type": "markdown",
   "metadata": {},
   "source": [
    "### What next?\n",
    "If this example makes sense you can probably proceed to working with more complex modelling activities. See the IVR7 intermediate2 and advanced examples."
   ]
  }
 ],
 "metadata": {
  "kernelspec": {
   "display_name": "Python 3",
   "language": "python",
   "name": "python3"
  },
  "language_info": {
   "codemirror_mode": {
    "name": "ipython",
    "version": 3
   },
   "file_extension": ".py",
   "mimetype": "text/x-python",
   "name": "python",
   "nbconvert_exporter": "python",
   "pygments_lexer": "ipython3",
   "version": "3.6.9"
  }
 },
 "nbformat": 4,
 "nbformat_minor": 4
}
