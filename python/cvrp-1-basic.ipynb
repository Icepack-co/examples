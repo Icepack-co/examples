{
 "cells": [
  {
   "cell_type": "markdown",
   "metadata": {},
   "source": [
    "# Capacitated Vehicle Routing Problem (CVRP)\n",
    "\n",
    "A CVRP in an academic sense is to find the least number of vehicles which are required to service all demands at minimum cost. The way in which we emulate this is to add a large cost for using a vehicle and a smaller cost for travelling between nodes. Each vehicle is limited to the maximum amount that it can service (referred to as the capacity) and each node has a defined `quantity` for it's demand.\n",
    "\n",
    "## Requirements\n",
    "* **Protobuf** (Google's Protocol Buffers library) (https://pypi.org/project/protobuf/) `pip install protobuf`\n",
    "* **Requests** (HTTP Python library) `pip install requests`\n",
    "* **Plotting** (ipyleaflet) [installation instructions here](https://github.com/jupyter-widgets/ipyleaflet)\n",
    "* Icepack API token of a key that has the Travelling Salesman Problem Solver enabled\n",
    "* See the TSP/TSPTW examples for more details. If you can run those, you can run this example :-) \n",
    "\n",
    "## Schema details\n",
    "If you're looking for more details around the schema fields and complete explanations check out the documentation on docs.scrudu.io\n",
    "\n"
   ]
  },
  {
   "cell_type": "markdown",
   "metadata": {},
   "source": [
    "### Load the data\n",
    "We're going to load some sample data which already has some mock data around demands at each node. We're going to make a fixed demand at each node of 20 units."
   ]
  },
  {
   "cell_type": "code",
   "execution_count": null,
   "metadata": {},
   "outputs": [],
   "source": [
    "import pandas\n",
    "df = pandas.read_csv('../../sample_data/publist.csv').head(10) # just grabbing the top 10 points.\n",
    "df['quantity'] = 20       # create a quantity field of 20 units per node\n",
    "df.loc[0,'quantity'] = 0  # set the quantity of the first node to zero (the depot)\n",
    "print(df.head())\n"
   ]
  },
  {
   "cell_type": "code",
   "execution_count": null,
   "metadata": {},
   "outputs": [],
   "source": [
    "exec(open('apiHelper.py').read()) # import some helper classes which we've written for you.\n",
    "\n",
    "api = apiHelper(modelType=\"cvrp-jkfdoctmp51n\") # set the model type to the cvrp model\n",
    "\n",
    "sr = cvrp_jkfdoctmp51n_pb2.SolveRequest()\n",
    "sr.solveType = 0\n",
    "\n",
    "m = sr.model\n",
    "\n",
    "def makePoint(row):\n",
    "    p = cvrp_jkfdoctmp51n_pb2.Geocode()\n",
    "    p.id = row.id\n",
    "    p.x = row.X\n",
    "    p.y = row.Y\n",
    "    p.quantity  = row.quantity\n",
    "    return (p)\n",
    "\n",
    "# set the depot in the model\n",
    "m.depot.CopyFrom(makePoint(df.loc[0,]))\n",
    "\n",
    "# Add the balance of the data\n",
    "for index, row in df.iterrows():\n",
    "    if index != 0:\n",
    "        m.points.append(makePoint(row))\n",
    "        \n",
    "m.NumberOfVehicles = 3\n",
    "m.VehicleCapacity = 100\n",
    "m.distancetype = 1\n",
    "\n",
    "print(m) # that's what the whole model looks like.\n"
   ]
  },
  {
   "cell_type": "markdown",
   "metadata": {},
   "source": [
    "### Model summary\n",
    "So we've created a CVRP model with 9 deliveries, a designated depot, three vehicles and a capacity of 100 on each vehicle. This model assumes a homogeneous fleet (all the vehicles are the same) - if you require modelling the specifics of each vehicle you can use the IVR7/8 Model. \n",
    "It should be obvious that with a capacity of 100 on each vehicle, the maxaimum number of stops per vehicle is 5. Given we have 9 stops, we know then that this can be completed with just two vehicles (i.e. the third vehicle need not be used if our first goal is to minimise the number of vehicles used).\n",
    "\n",
    "### Run the model\n",
    "We can now submit the model to the api using the api-helper object."
   ]
  },
  {
   "cell_type": "code",
   "execution_count": null,
   "metadata": {},
   "outputs": [],
   "source": [
    "reqId = api.Post(sr)\n",
    "print(reqId) # if you want to see what the guid looks like."
   ]
  },
  {
   "cell_type": "markdown",
   "metadata": {},
   "source": [
    "### Retrieve the model response\n",
    "We can use the api-helper to grab the solution response using the request-id provided by the post."
   ]
  },
  {
   "cell_type": "code",
   "execution_count": null,
   "metadata": {},
   "outputs": [],
   "source": [
    "sol = api.Get(reqId)\n",
    "\n",
    "print(sol.objective) # This is the cost of the solution returned by the api.\n"
   ]
  },
  {
   "cell_type": "markdown",
   "metadata": {},
   "source": [
    "### Visualising the response\n",
    "The format that is returned by the api is similar to the TSP, except that each \"tour\" is organised by vehicle. This means that we have a list of routes and within each route we have the geometry that applies to the relevant stops therein."
   ]
  },
  {
   "cell_type": "code",
   "execution_count": null,
   "metadata": {},
   "outputs": [],
   "source": [
    "\n",
    "r = pandas.DataFrame(columns=['vehicleId', 'stop', 'QtyDelivered'])\n",
    "g = list() # for storing the geometries\n",
    "idx = 0\n",
    "for i, e in enumerate(sol.routes):\n",
    "    for j, s in enumerate(e.sequence):\n",
    "        r.loc[idx] = list([i, s, e.visitCapacities[j]])\n",
    "        idx+=1\n",
    "    gs = list()\n",
    "    for _, f in enumerate(e.edges):\n",
    "        for _, p in enumerate(f.geometry):\n",
    "            gs.append([p.y, p.x])\n",
    "    g.append(gs)\n",
    "\n",
    "# we can then left-join on the original data.    \n",
    "r = pandas.merge(r,df,left_on='stop',right_on='id', how = 'left').drop(['id','quantity'], axis=1)\n",
    "\n",
    "print(r)\n",
    "\n"
   ]
  },
  {
   "cell_type": "code",
   "execution_count": null,
   "metadata": {},
   "outputs": [],
   "source": [
    "from ipyleaflet import Map, Polyline, Circle, LayerGroup\n",
    "cvec = list(['blue', 'red', 'orange'])\n",
    "\n",
    "# form some locations to add to the map (just green dots seems ok)\n",
    "locs = list()\n",
    "for index, p in r.iterrows():\n",
    "    circle = Circle()\n",
    "    circle.location = (p['Y'], p['X'])\n",
    "    circle.radius = 10\n",
    "    circle.color = \"green\"\n",
    "    locs.append(circle)\n",
    "\n",
    "center = [r['Y'][1],r['X'][1]] # just use the first point as the center (i.e. the depot)\n",
    "m = Map(scroll_wheel_zoom=True, center=center, zoom=12)\n",
    "for i, gs in enumerate(g):\n",
    "    m.add_layer(Polyline(locations=gs,color=cvec[i],fill=False))\n",
    "\n",
    "m.add_layer(LayerGroup(layers=(locs)))\n",
    "m\n"
   ]
  },
  {
   "cell_type": "markdown",
   "metadata": {},
   "source": [
    "## Request Statistics\n",
    "The statistics for all recent requests, including the solve duration, can be viewed in the dashboard of the [Icepack Client Portal](https://portal.icepack.ai/dashboard)."
   ]
  }
 ],
 "metadata": {
  "kernelspec": {
   "display_name": "Python 3",
   "language": "python",
   "name": "python3"
  },
  "language_info": {
   "codemirror_mode": {
    "name": "ipython",
    "version": 3
   },
   "file_extension": ".py",
   "mimetype": "text/x-python",
   "name": "python",
   "nbconvert_exporter": "python",
   "pygments_lexer": "ipython3",
   "version": "3.6.9"
  }
 },
 "nbformat": 4,
 "nbformat_minor": 4
}
