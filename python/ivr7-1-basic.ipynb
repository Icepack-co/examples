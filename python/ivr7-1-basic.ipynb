{
 "cells": [
  {
   "cell_type": "markdown",
   "metadata": {},
   "source": [
    "# IVR7 Basic Example\n",
    "This example aims to highlight the follow:\n",
    "* using time, distance and a single capacity dimension\n",
    "* locations\n",
    "* pickup-dropoff tasks (with task times)\n",
    "* single vehicle class\n",
    "* single vehicle-cost class\n",
    "* multiple vehicles\n",
    "\n",
    "## Requirements\n",
    "This example assumes you've configured an api-key with the required services enabled (see the [portal](portal.icepack.ai) for configuration details) and that you're familiar with loading and working with protobuf models.\n",
    "\n",
    "## Data\n",
    "We're going to load sample data which has order sizes and durations in a tabular format.\n"
   ]
  },
  {
   "cell_type": "code",
   "execution_count": null,
   "metadata": {},
   "outputs": [],
   "source": [
    "import pandas\n",
    "df = pandas.read_csv('../sample_data/publist_orders.csv')\n",
    "print(df.head())"
   ]
  },
  {
   "cell_type": "markdown",
   "metadata": {},
   "source": [
    "## Model helper\n",
    "There are several common code-snippets which are useful when working with the IVR series of models, such as creating jobs, defining dimensions etc. \n",
    "We've pre-populated examples of such common functions but you're welcome to modify and update them as you see fit for your own application. These wrappers standardise the logic flow across the examples so that we can highlight the differences in functionality between them.\n",
    "\n",
    "## Model Dimensions\n",
    "For this example of the IVR7 solver, three dimensions are added - time, distance, and capacity.\n",
    "\n",
    "For each dimension, the slackMax and tardyMax is set to determine how the dimension behaves. The slackMax provides a limit to how much dimensional quantity may be added in order to perform a task feasibly. In a typical example, like the time dimension, this refers to how much early-waiting time a vehicle may perform for a task. By contrast, the tardyMax provides a limit to how late a task may be relative to its windows. Both the slack and tardy can be costed in the solution to discourage the usage thereof.\n",
    "\n",
    "For example, when looking at the time dimension the slackMax value indicates how early a vehicle is allowed to arrive before a time window begins while the tardyMax value indicates how long after a time window ends that a vehicle is still permitted complete a task (depending on the value of the tardyMax this may result in a vehicle arriving after the time window closes).\n",
    "\n",
    "### Dimension - Time\n",
    "This sets up the time dimension that is used for the model. The built-in units of measurement are:\n",
    "* seconds (measurementUnit = 0), \n",
    "* minutes (measurementUnit = 1),\n",
    "* hours (measurementUnit = 2), \n",
    "* and days (measurementUnit = 3). \n",
    "All time is caluclated from a baseline zero hour and will be referenced by vehicles, locations, and tasks. It is up to the user to determine this baseline and then to convert the solution time's to the real-world time equivalent.\n",
    "\n",
    "In practice, it's easiest to assume that midnight is time zero and everything is measured relative to that. The solver only requires that windows and quantities are specified in the positive axis (so all windows should have values greater than or equal to zero)\n",
    "\n",
    "### Dimension - Distance\n",
    "This sets up the distance dimension that is used for the model. The built-in units of measurement are:\n",
    "* kilometres (measurmentUnit = 4),\n",
    "* and miles (measurementUnit = 5).\n",
    "\n",
    "### Dimension - Capacity\n",
    "This sets up the capacity dimension that is used for the model. This dimension does not have built-in units. This will be referenced by both vehicles and tasks."
   ]
  },
  {
   "cell_type": "code",
   "execution_count": null,
   "metadata": {},
   "outputs": [],
   "source": [
    "exec(open('apiHelper.py').read()) # import some api-helper classes which we've written for you.\n",
    "exec(open('ivr7-model-helper.py').read()) # import some modelling helpers\n",
    "\n",
    "\n",
    "api = apiHelper(modelType=\"ivr7-kt461v8eoaif\") # set the model type to the ivr7 model\n",
    "\n",
    "sr = ivr7_kt461v8eoaif_pb2.SolveRequest()\n",
    "sr.solveType = 0 # optimise solve request\n",
    "\n",
    "m = sr.model\n",
    "\n",
    "m.dimensions.CopyFrom(make_distance_time_cap_dims())\n",
    "\n",
    "print(m)\n"
   ]
  },
  {
   "cell_type": "markdown",
   "metadata": {},
   "source": [
    "## Locations\n",
    "\n",
    "We're going to treat the first point as where vehicles are going to begin and end each day. Unlike the tsp/cvrp/pdp models, the ivr7 requires that you specify the unique locations that are going to be used in the model as a separate entity. The reason for this is that you can then specify the locations once, and reference those locations by id for other entities (such and vehicles/jobs/tasks)"
   ]
  },
  {
   "cell_type": "code",
   "execution_count": null,
   "metadata": {},
   "outputs": [],
   "source": [
    "del m.locations[:] # just in case you're running this twice, clear the field before extending it.\n",
    "m.locations.extend(make_locations(df)) #using the wrapper function\n",
    "\n",
    "print(m.locations[0])\n",
    "str(len(m.locations)) + \" locations\""
   ]
  },
  {
   "cell_type": "markdown",
   "metadata": {},
   "source": [
    "## Jobs\n",
    "For each job, there is a unique ID, a penalty to be applied if the job is not completed as well as associated tasks.\n",
    "\n",
    "Jobs with higher penalties will be prioritised over jobs with lower penalties.\n",
    "\n",
    "### Tasks\n",
    "Jobs also have associated tasks with each task occuring at assigned locations and must be completed by the same vehicle. If one task cannot be completed then the entire job will unperformed in the solution. If a job is unperformed, it will be returned in the Infeasibilites message of the solution along with reasons as to why it could not be completed.\n",
    "\n",
    "We've constructed some jobs with pickups and dropoffs, loading and offload times, as well as the contribution to the capacity dimension (through the attributes). In this example, all pickup up orders originate at the guiness storehouse and deliver to each customer in the list. `make_job_time_cap` is just a simple function to create this particular style of request, but you can make your own.\n",
    " \n",
    "### Dimension - Capacity\n",
    "A positive quantity value indicates goods being added to the vehicle and a negative quantity value indicates goods being removed from the vehicle.\n"
   ]
  },
  {
   "cell_type": "code",
   "execution_count": null,
   "metadata": {},
   "outputs": [],
   "source": [
    "njobs = (df.shape[0])\n",
    "src = [0] * (njobs-1)\n",
    "dest =  range(1, njobs)\n",
    "\n",
    "del m.jobs[:]\n",
    "m.jobs.extend(make_job_time_cap(df, src, dest))\n",
    "# lets inspect just the first job created\n",
    "print(m.jobs[0])"
   ]
  },
  {
   "cell_type": "markdown",
   "metadata": {},
   "source": [
    "### Vehicle Configuration Vehicle Cost Classes\n",
    "This is the start of the vehicle-configuration. \n",
    "We need to specify:\n",
    "1. the cost classes available, \n",
    "2. the vehicle classes available, \n",
    "3. and then the individual vehicles.\n",
    "we're going to create one of each to keep things simple.\n",
    "\n",
    "### Vehicle Cost Class\n",
    "\n",
    "The vehicle cost class describes how the vehicle should be priced for each unit of a dimension assigned to the vehicle class. Multiple cost classes can be created to model differential pricing between vehicle types."
   ]
  },
  {
   "cell_type": "code",
   "execution_count": null,
   "metadata": {},
   "outputs": [],
   "source": [
    "del m.vehicleCostClasses[:]\n",
    "m.vehicleCostClasses.append(make_vcc_simple('vcc1', 1000, 1.001e-2, 1.001e-2, 1.001e-2, 1, 3))\n",
    "print(m.vehicleCostClasses)\n"
   ]
  },
  {
   "cell_type": "markdown",
   "metadata": {},
   "source": [
    "### Vehicle Class\n",
    "A vehicle class describes how the vehicle moves through the network. In other words, we can use the standard network travel speeds, or we could make the vehicle move slower/faster relative to the road network. We could also attach transit rules here which are great for modelling lunch breaks, refueling stops etc. (i.e. conditional triggers on the cumul values of the dimension). Transit rules are covered in advanced examples.\n"
   ]
  },
  {
   "cell_type": "code",
   "execution_count": null,
   "metadata": {},
   "outputs": [],
   "source": [
    "del m.vehicleClasses[:]\n",
    "m.vehicleClasses.append(make_vc_simple('vc1', 1, 1, 1, 1))\n",
    "print(\"Vehicle Classes\")\n",
    "print(m.vehicleClasses)\n"
   ]
  },
  {
   "cell_type": "markdown",
   "metadata": {},
   "source": [
    "### Vehicles\n",
    "The solver requires a fixed number of vehicle instances to work with. In this model, we can create 2 vehicles all starting and ending their day at the depot with a capacity of 2000 units. "
   ]
  },
  {
   "cell_type": "code",
   "execution_count": null,
   "metadata": {},
   "outputs": [],
   "source": [
    "del m.vehicles[:]\n",
    "for i in range(1,2):\n",
    "    m.vehicles.append( make_vehicle_cap('vehicle_' + str(i), 'vc1', 'vcc1',\n",
    "                                        2000, # the vehicle capacity\n",
    "                                       df['id'][0], # the start location\n",
    "                                       df['id'][0], # the end location\n",
    "                                       7*60,        # the start time (7AM)\n",
    "                                       18*60))       # the end time  (6PM)\n",
    "print(\"Vehicle 1\")\n",
    "print(m.vehicles[0])"
   ]
  },
  {
   "cell_type": "markdown",
   "metadata": {},
   "source": [
    "### Sending the model\n",
    "We now have a complete model specified so we can submit it to the api."
   ]
  },
  {
   "cell_type": "code",
   "execution_count": null,
   "metadata": {},
   "outputs": [],
   "source": [
    "reqId = api.Post(sr)\n",
    "print(reqId) # if you want to see what the guid looks like."
   ]
  },
  {
   "cell_type": "markdown",
   "metadata": {},
   "source": [
    "### Retrieve the model response\n",
    "We can use the api-helper to grab the solution response using the request-id provided by the post."
   ]
  },
  {
   "cell_type": "code",
   "execution_count": null,
   "metadata": {},
   "outputs": [],
   "source": [
    "sol = api.Get(reqId)\n",
    "\n",
    "print(sol.objective) # This is the cost of the solution returned by the api.\n"
   ]
  },
  {
   "cell_type": "markdown",
   "metadata": {},
   "source": [
    "### Tabluating the response\n",
    "\n",
    "It's quite convenient to table the response data from the api into a collection of stops (nodes) and inter-stops (edges). The reason for this separation between nodes and edges is that they represent different states in the model. Node dimensional quantities refer to quantities incurred while _standing_ and, by contrast, when talking about edges the quantities refer to the _movement_ between tasks. \n"
   ]
  },
  {
   "cell_type": "code",
   "execution_count": null,
   "metadata": {},
   "outputs": [],
   "source": [
    "print(sol.routes[0])"
   ]
  },
  {
   "cell_type": "code",
   "execution_count": null,
   "metadata": {},
   "outputs": [],
   "source": [
    "t = tabulate(sr, sol) # pass in the solve request (we grab the locations from the mode) and the solution response\n",
    "print(t.keys())\n",
    "print(\"node table has \" + str(t['nodes'].shape[0]) + ' rows and ' + str(t['nodes'].shape[1]) + ' colums' )\n",
    "print(\"edge table has \" + str(t['edges'].shape[0]) + ' rows and ' + str(t['edges'].shape[1]) + ' colums' )"
   ]
  },
  {
   "cell_type": "markdown",
   "metadata": {},
   "source": [
    "### Inspecting the tabulated result\n",
    "\n",
    "Lets start with the stop-table (or node data):\n"
   ]
  },
  {
   "cell_type": "code",
   "execution_count": null,
   "metadata": {},
   "outputs": [],
   "source": [
    "t['nodes']\n"
   ]
  },
  {
   "cell_type": "markdown",
   "metadata": {},
   "source": [
    "Similarly for the edges, we can check the table. Note that the geometries for the edges have been compressed into a list object within each row  (this makes things a touch easier for plotting). \n",
    "\n"
   ]
  },
  {
   "cell_type": "code",
   "execution_count": null,
   "metadata": {},
   "outputs": [],
   "source": [
    "t['edges']\n"
   ]
  },
  {
   "cell_type": "markdown",
   "metadata": {},
   "source": [
    "Fun thigs to note:\n",
    "* The capacity start and capacity end in the edge table is always the same. This is because at the start of an action moving a vehicle between two nodes, and at the end of that action, the capacity of the vehicle doesn't change (because no loading of offloading has occured in this example).\n",
    "* The capacity changes in the node table. You can see this is the cumulative capacity of all orders on the vehicle at each stage in the schedule. This is true for all dimensional values.\n",
    "* If you take the distance_end - distance_start on the edge table, you'll get the total distance travelled by each vehicle.\n",
    "\n",
    "\n",
    "### Visualising the response\n",
    "\n",
    "Lets go ahead and visualise the routes.\n"
   ]
  },
  {
   "cell_type": "code",
   "execution_count": null,
   "metadata": {},
   "outputs": [],
   "source": [
    "from ipyleaflet import Map, Polyline, Circle, LayerGroup\n",
    "\n",
    "cvec = list(['blue', 'red', 'orange', 'green', 'black'])\n",
    "cdict = {}\n",
    "for i in range(0,5):\n",
    "    cdict['vehicle_' + str(i)] = cvec[i]\n",
    "\n",
    "\n",
    "# form some locations to add to the map (just green dots seems ok)\n",
    "locs = list()\n",
    "for index, p in t['nodes'].iterrows():\n",
    "    circle = Circle()\n",
    "    circle.location = (p['y'], p['x'])\n",
    "    circle.radius = 10\n",
    "    circle.color = \"green\"\n",
    "    locs.append(circle)\n",
    "\n",
    "center = [df['Y'][1],df['X'][1]] # just use the first point as the center (i.e. the depot)\n",
    "m = Map(scroll_wheel_zoom=True, center=center, zoom=12)\n",
    "for i, gs in enumerate(t['edges']['geometry']):\n",
    "    m.add_layer(Polyline(locations=gs,color=cdict[t['edges']['vehicleId'][i]],fill=False))\n",
    "\n",
    "m.add_layer(LayerGroup(layers=(locs)))\n",
    "m"
   ]
  },
  {
   "cell_type": "markdown",
   "metadata": {},
   "source": [
    "### What next?\n",
    "If this example makes sense you can probably proceed to working with more complex modelling activities. See the IVR7 intermediate and advanced examples."
   ]
  }
 ],
 "metadata": {
  "kernelspec": {
   "display_name": "Python 3",
   "language": "python",
   "name": "python3"
  },
  "language_info": {
   "codemirror_mode": {
    "name": "ipython",
    "version": 3
   },
   "file_extension": ".py",
   "mimetype": "text/x-python",
   "name": "python",
   "nbconvert_exporter": "python",
   "pygments_lexer": "ipython3",
   "version": "3.6.9"
  }
 },
 "nbformat": 4,
 "nbformat_minor": 4
}
