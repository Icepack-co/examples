{
 "cells": [
  {
   "cell_type": "markdown",
   "metadata": {},
   "source": [
    "# Travelling Salesman Problem with Time Windows (TSPTW) \n",
    "> Please note, this problem builds off of the Travelling Salesman Problem Example and adds the constraint of requiring the locations to be visited within specified time windows.\n",
    "\n",
    "## Introduction\n",
    "The goal of the Travelling Salesperson Problem (TSP) is to find the optimal route through a network which visits all stops.  The TSPTW adds the constraint that certain nodes stops can only be serviced at specified times.\n",
    "\n",
    "> The Icepack TSPTW model defines the optimal route as the one completed in the shortest period of time (consistent with the academic definition).  Distance is not taken directly into account, although the quickest route is often closely related to the shortest. For more control over the details over the objective function feel free to have a look at the IVR7/8 examples.\n",
    "that will result in a different solution.\n",
    "\n",
    "## Requirements\n",
    "The only difference in requirements between the TSP example and the TSPTW example is that a different `.proto` file is used (`tsptw-kcxbievqo879.proto`) to defined the model (`tsptw_kcxbievqo879_pb2.py`).\n",
    "\n",
    "\n",
    "## Protocol Buffers (Protobuf)\n",
    "If you're using a version of `protoc` < 3.6.0 feel free to regenerate the `tsptw_kcxbievqo879_pb2.py` file using\n",
    "following commands:\n",
    "\n",
    "`protoc --python_out=. problem.proto` \n",
    "\n",
    "`protoc --python_out=. tsptw-kcxbievqo879`\n",
    "\n",
    "`problem_pb2` and `tsptw_kcxbievqo879_pb2` can then be imported and used to serialise data.\n",
    "\n",
    "## Icepack Client Portal\n",
    "The Icepack Client Portal can be found at https://portal.test.icepack.ai.\n",
    "\n",
    "### API Key\n",
    "Ensure that you have access to a key that has the **Travelling Salesman Problem Solver** enabled.  A personal token will need to generated if it has not already been done.\n",
    "\n",
    "## Time Windows\n",
    "Time windows are periods of time during which the visit must occur.  For the TSPTW model, each point is permitted only one window and is defined using the _windowStart_ and the _windowEnd_ parameters in the Geocode message.  \n",
    "\n",
    "**Either both the windowStart and windowEnd should be set - or neither.** If you're looking to have an unbounded time on either the start or end please specify a zero or large value (like 10000), respectively. \n",
    "\n",
    "When using Road Network distance, the unit of measurment for time windows is **decimal minutes**, with 0 being defined as the time of leaving the first point to start the route.\n",
    "\n",
    "## TSPTW Set Up\n",
    "The Icepack TSP service only requires the locations to be visited and no tasks to be completed while at this location.  Each location requires an ID, and a pair of coordinates.  For earth-routing, x and y (in caretesian space) map to the location's longitude and latitude.\n",
    "\n",
    "> Please check the regions currently covered [here](https://docs.scrudu.io/about/regions/#readout). If your geocodes fall outside this region we will assume a zero distance between points (and an unreasonable result will follow).\n",
    "\n",
    "In addition, optional time windows can be added to each point.\n",
    "\n",
    "This problem is set up in the exact same manner as the previous TSP Example apart from using `tsptw_kcxbievqo879_pb2` instead of `tsp_mcvfz472gty6_pb2` and adding time windows to the points.\n",
    "\n",
    "We're going to:\n",
    "1. Load the api-helper (see `apiHelper.py` for details)\n",
    "2. Load the sample data. (`publist.csv`)\n",
    "3. Build a model (`tsptw_kcxbievqo879_pb2`)\n",
    "4. Submit it to the api. (`api.icepack.ai/vehicle-router/solve`)\n",
    "5. Get the response. (using the response from 4.)\n",
    "6. Plot the result (using `ipyleaflet`)\n"
   ]
  },
  {
   "cell_type": "markdown",
   "metadata": {},
   "source": [
    "### Load the data\n",
    "We're only going to load the first 10 points to illustrate this example (mostly because making up random data which is feasible and reasonable in a real-world sense is hard!)"
   ]
  },
  {
   "cell_type": "code",
   "execution_count": null,
   "metadata": {},
   "outputs": [],
   "source": [
    "import pandas\n",
    "df = pandas.read_csv('../sample_data/publist.csv').head(10) \n",
    "print(df.head())\n"
   ]
  },
  {
   "cell_type": "code",
   "execution_count": null,
   "metadata": {},
   "outputs": [],
   "source": [
    "import numpy\n",
    "rupper = 2500\n",
    "df['WindowStart'] = numpy.random.uniform(low=0.0, high=rupper, size=df.shape[0])\n",
    "df['WindowEnd'] = rupper + df['WindowStart'] #so that our time windows are ordered correctly in time i.e. start < end\n",
    "df.head()\n"
   ]
  },
  {
   "cell_type": "markdown",
   "metadata": {},
   "source": [
    "### Build the model\n",
    "Now that we have some data to work with, we can go ahead and start building the model."
   ]
  },
  {
   "cell_type": "code",
   "execution_count": null,
   "metadata": {},
   "outputs": [],
   "source": [
    "exec(open('apiHelper.py').read()) # import some helper classes which we've written for you.\n",
    "\n",
    "api = apiHelper(modelType=\"tsptw-kcxbievqo879\")\n",
    "\n",
    "sr = tsptw_kcxbievqo879_pb2.SolveRequest()\n",
    "sr.solveType = 0\n",
    "\n",
    "m = sr.model\n",
    "\n",
    "# or add them individually \n",
    "for index, row in df.iterrows():\n",
    "  l = tsptw_kcxbievqo879_pb2.Geocode()\n",
    "  l.id = row['id']\n",
    "  l.x = row['X']\n",
    "  l.y = row['Y']\n",
    "  l.windowStart = row['WindowStart']\n",
    "  l.windowEnd = row['WindowEnd']\n",
    "  m.points.append(l)  \n",
    "m.distancetype = 1 # set the distance to road network (it is the default if we forget)\n",
    "\n",
    "print(m) # that's what the model looks like, not too shabby."
   ]
  },
  {
   "cell_type": "markdown",
   "metadata": {},
   "source": [
    "### Submit the problem to the api\n",
    "We can use the wrapper class to push the model to the api.\n"
   ]
  },
  {
   "cell_type": "code",
   "execution_count": null,
   "metadata": {},
   "outputs": [],
   "source": [
    "reqId = api.Post(sr)\n",
    "print(reqId) # if you want to see what the guid looks like."
   ]
  },
  {
   "cell_type": "markdown",
   "metadata": {},
   "source": [
    "### Get the response using the guid provided\n",
    "Again, using the wrapper class to retrieve the response payload is pretty straight forward. The logs here illustate the work the api did for us in the background."
   ]
  },
  {
   "cell_type": "code",
   "execution_count": null,
   "metadata": {},
   "outputs": [],
   "source": [
    "sol = api.Get(reqId)\n",
    "\n",
    "print(sol.tour) # which is the sequence of geocode-id's we should follow to do perform an optimal tour!\n",
    "print(sol.arrivalTimes)"
   ]
  },
  {
   "cell_type": "markdown",
   "metadata": {},
   "source": [
    "### TSP Solution\n",
    "The solution contains the optimal tour, arrival times at each location and the edges between locations.\n",
    "\n",
    "We can plot the tour as we did with the TSP response.\n",
    "\n",
    "> If the _distancetype_ was set to use Euclidean or Haversine distance, then the _distance_ and _time_ output parameters will be identical. There will also be empty edge collections as there are no routes through the road network to generate :-) \n",
    "\n",
    "Tabulating the response from the api, we can see that each arrival is within the required windowStart and windowEnd."
   ]
  },
  {
   "cell_type": "code",
   "execution_count": null,
   "metadata": {},
   "outputs": [],
   "source": [
    "tour= pandas.DataFrame(list(sol.tour), columns=['tour'])\n",
    "tour['ArrivalTime'] = list(sol.arrivalTimes)\n",
    "tourpts = pandas.merge(tour,df,left_on='tour',right_on='id', how = 'left').drop(['id'], axis=1)\n",
    "tourpts.head()\n"
   ]
  },
  {
   "cell_type": "markdown",
   "metadata": {},
   "source": [
    "#### Visualising the response\n",
    "If the road network has been requested, the _geometry_ outputs will be populated in the api response.  The _geometry_ of an edge provides the list of coordinates to plot an accurate path that is taken between two points.\n",
    "\n",
    "If using Euclidean or Haversine distance, this field is not populated (since there is no path, just a segment between the start and end point)."
   ]
  },
  {
   "cell_type": "code",
   "execution_count": null,
   "metadata": {},
   "outputs": [],
   "source": [
    "# so we want a list of list of pairs (y,x => lat, lon).\n",
    "from ipyleaflet import Map, Polyline, Circle, LayerGroup\n",
    "\n",
    "#stops\n",
    "locs = list()\n",
    "for index, p in tourpts.iterrows():\n",
    "    circle = Circle()\n",
    "    circle.location = (p['Y'], p['X'])\n",
    "    circle.radius = 10\n",
    "    circle.color = \"green\"\n",
    "    locs.append(circle)\n",
    "\n",
    "#routes\n",
    "routes = list()\n",
    "for i, e in enumerate(sol.edges):\n",
    "    route = list()\n",
    "    for j, p in enumerate(e.geometry):\n",
    "        route.append([p.y, p.x])  #ipyleaflet neets this in lat-lon format - cartographically correct. Cartesianially incorrect :-) \n",
    "    routes.append(route)\n",
    "    \n",
    "center = [df['Y'][1],df['X'][1]] # just use the first point as the cetner.\n",
    "m = Map(scroll_wheel_zoom=True, center=center, zoom=12)\n",
    "m.add_layer(Polyline(locations = routes, \n",
    "                     color=\"blue\", \n",
    "                     fill = False))\n",
    "m.add_layer(LayerGroup(layers=(locs)))\n",
    "m\n"
   ]
  },
  {
   "cell_type": "markdown",
   "metadata": {},
   "source": [
    "### Arrival Times\n",
    "The response provides the arrival time for each point on the tour. The arrival time will be set to the value of the _windowStart_ if arriving at a point before the window has started. In other words, early arrival is permitted in this model. To see the slack/tardy definitions in the documentation for the IVR7/8 models if you're looking for fine-grained control over these fields.\n",
    "\n"
   ]
  },
  {
   "cell_type": "markdown",
   "metadata": {},
   "source": [
    "## Request Statistics\n",
    "The statistics for all recent requests, including the solve duration, can be viewed in the dashboard of the Icepack Client Portal (https://portal.test.icepack.ai/dashboard)."
   ]
  }
 ],
 "metadata": {
  "kernelspec": {
   "display_name": "Python 3",
   "language": "python",
   "name": "python3"
  },
  "language_info": {
   "codemirror_mode": {
    "name": "ipython",
    "version": 3
   },
   "file_extension": ".py",
   "mimetype": "text/x-python",
   "name": "python",
   "nbconvert_exporter": "python",
   "pygments_lexer": "ipython3",
   "version": "3.6.9"
  }
 },
 "nbformat": 4,
 "nbformat_minor": 2
}
