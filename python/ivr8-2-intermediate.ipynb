{
 "cells": [
  {
   "cell_type": "markdown",
   "metadata": {},
   "source": [
    "# IVR8 Intermediate Example\n",
    "This example aims to highlight the follow:\n",
    " * demonstrate how to use compartment constraints on a particular model\n",
    " * Use a subset of the publist stops and configure a single vehicle\n",
    " * Use a simple two-rack compartment configuration to illustrate the basic assignment workings\n",
    " * Add a group-limit constraint which only permits loads on the top-rack if there is a task filling the space beneth it.\n",
    "\n",
    "## Requirements\n",
    "This example assumes you've configured an api-key with the required services enabled (see the [portal](portal.icepack.ai) for configuration details) and that you're familiar with loading and working with protobuf models.\n",
    "\n",
    "## Data\n",
    "We're going to load sample data which has order sizes and durations in a tabular format. The first 9 items will be sufficient for this exercise (item 1 being the depot, and 8 for orders)\n"
   ]
  },
  {
   "cell_type": "code",
   "execution_count": null,
   "metadata": {},
   "outputs": [],
   "source": [
    "import pandas\n",
    "df = pandas.read_csv('../sample_data/publist_orders.csv').head(9)\n",
    "print(df.head())"
   ]
  },
  {
   "cell_type": "markdown",
   "metadata": {},
   "source": [
    "## Model helper\n",
    "As with the previous example, we'll be using the model helper and creating a top rack / lower rack style of compartments.\n",
    "\n",
    "We're going to start by creating an ivr8 model and populating it with some basic information."
   ]
  },
  {
   "cell_type": "code",
   "execution_count": null,
   "metadata": {},
   "outputs": [],
   "source": [
    "exec(open('apiHelper.py').read()) # import some api-helper classes which we've written for you.\n",
    "exec(open('ivr8-model-helper.py').read()) # import some modelling helpers\n",
    "\n",
    "api = apiHelper(modelType=\"ivr8-yni1c9k2swof\") # set the model type to the ivr8 model\n",
    "\n",
    "sr = ivr8_yni1c9k2swof_pb2.SolveRequest()\n",
    "sr.solveType = 0 # optimise solve request\n",
    "\n",
    "m = sr.model\n",
    "m.dimensions.CopyFrom(make_distance_time_cap_dims())\n",
    "m.locations.extend(make_locations(df)) \n",
    "m.locations.append(m.locations[0]) # just copy the Guiness storehouse location\n",
    "m.locations[len(m.locations) - 1].id = 'vehicle-site' #rename it and we're good to go (location id's need to be unique in a model)\n",
    "m.jobs.extend(make_job_time_cap(df, [0] * (df.shape[0]-1), range(1, df.shape[0])))\n",
    "m.vehicleCostClasses.append(make_vcc_simple('vcc1', 1000, 1.001e-2, 1.001e-2, 1.001e-2, 1, 3))\n",
    "m.vehicleClasses.append(make_vc_simple('vc1', 1, 1, 1, 1))\n",
    "m.vehicles.append(make_vehicle_cap('vehicle_1', 'vc1', 'vcc1', #create just one vehicle\n",
    "                                    2000, # the vehicle capacity\n",
    "                                    df['id'][0], # the start location\n",
    "                                    df['id'][0], # the end location\n",
    "                                    7*60,        # the start time (7AM)\n",
    "                                    18*60))      # the end time  (6PM)\n",
    "\n"
   ]
  },
  {
   "cell_type": "markdown",
   "metadata": {},
   "source": [
    "### Compartment definition\n",
    "A compartment is a container in which tasks can be placed. Several compartments can be assigned to a vehicle, comprising what we call a `compartment-set`. We can place constraints on individual compartments from an assignmnet perspective (i.e. some tasks may only be assigned to certain compartments) as well as individual constraints on the capacity of a compartment (with respect to some defined dimensions). \n",
    "\n",
    "Lets make a simple example where we have a vehicle who's compartments are layed out as follows:\n",
    "\n",
    "\n",
    "| Rack        |      |   |    |   |\n",
    "| ------------- |-------------|-----|-----|-----|\n",
    "| Top Rack      | c1: 100 | c2: 100 |c3: 100 |c4: 100 |\n",
    "| Bottom Rack   | c5:400      |   c6:400 |c7:400 |c8:400 |\n",
    "\n",
    "So we have 4 compartments on the top rack (c1-c4) each with a capacity of 100 units, and 4 compartments on the bottom rack each with a holding capacity of 400 units. Lets write the code to build this model!\n",
    "\n",
    "\n",
    "Compartments can be defined separately from compartments sets.This means we can use any combination of compartment defintions in a compartment set (to define a collection against which constraint checks are performed). We'll start with the compartments"
   ]
  },
  {
   "cell_type": "code",
   "execution_count": null,
   "metadata": {},
   "outputs": [],
   "source": [
    "del m.compartments[:] # in case you run this twice\n",
    "for i in range(0,8):\n",
    "    comp = ivr8_yni1c9k2swof_pb2.Compartment()\n",
    "    comp.id = \"c\" + str(i+1)\n",
    "    compcap = ivr8_yni1c9k2swof_pb2.Compartment.Capacity()\n",
    "    compcap.dimensionId = 'capacity'\n",
    "    if i < 4:\n",
    "        compcap.capacity = 100 # top rack\n",
    "    else:\n",
    "        compcap.capacity = 400 # bottom rack\n",
    "    comp.capacities.append(compcap)\n",
    "    m.compartments.append(comp)\n",
    "print(m.compartments)"
   ]
  },
  {
   "cell_type": "markdown",
   "metadata": {},
   "source": [
    "### Compartment set\n",
    "Now that we have some compartments defined in the model, we can pull them together into a collection (which is then assigned to a vehicle). "
   ]
  },
  {
   "cell_type": "code",
   "execution_count": null,
   "metadata": {},
   "outputs": [],
   "source": [
    "del m.compartmentSets[:] # in case you run this twice\n",
    "cset = ivr8_yni1c9k2swof_pb2.CompartmentSet()\n",
    "cset.id = 'double-decker'\n",
    "for i in range(0,8):\n",
    "    cset.compartmentIds.append('c' + str(i + 1)) #indicates that this compartment set has c1:c8 available.\n",
    "m.compartmentSets.append(cset) # add it to the model\n",
    "\n",
    "print('Compartment set:')\n",
    "print(m.compartmentSets)\n",
    "print('\\n\\n')\n",
    "# The last step is to tell a vehicle that it has a compartment set which should be used.\n",
    "m.vehicles[0].compartmentSetId = 'double-decker'\n",
    "print(m.vehicles[0])"
   ]
  },
  {
   "cell_type": "markdown",
   "metadata": {},
   "source": [
    "## Group Limits\n",
    "In this example we're going to add group limits to the compartments.\n",
    "Lets say we have a constraint that says something like, \"the mass on the top may not exceed the mass on the bottom\". This translates to the sum of c1:c4 should be less than the sum of the bottom rack c5:c8.\n",
    "\n",
    "If we write this out we would say c1 + c2 + c3 + c4 < c5 + c6 + c7 + c8\n",
    "\n",
    "Which can be rewritten as: c1 + c2 + c3 + c4 - c5 - c6 - c7 - c8 < 0 \n"
   ]
  },
  {
   "cell_type": "code",
   "execution_count": null,
   "metadata": {},
   "outputs": [],
   "source": [
    "g = ivr8_yni1c9k2swof_pb2.CompartmentSet.GroupLimit()\n",
    "for i in range(0,8):\n",
    "    g.compartmentIds.append('c' + str(i + 1))\n",
    "    if i < 4:\n",
    "        g.coefficients.append(+1) # this is the left hand side\n",
    "    else:\n",
    "        g.coefficients.append(-1) # this is the left hand side\n",
    "g.dimensionId = 'capacity'\n",
    "g.limit = 0                       # this is the right hand side\n",
    "print(g)\n",
    "del m.compartmentSets[0].groupLimits[:] # in case you run this twice\n",
    "m.compartmentSets[0].groupLimits.append(g) # add this to the compartment set"
   ]
  },
  {
   "cell_type": "markdown",
   "metadata": {},
   "source": [
    "## Run the model\n",
    "\n",
    "Now we can follow the normal process of submitting the model to the api and running it!\n"
   ]
  },
  {
   "cell_type": "code",
   "execution_count": null,
   "metadata": {},
   "outputs": [],
   "source": [
    "reqId = api.Post(sr)\n",
    "sol = api.Get(reqId)\n",
    "t = tabulate(sr, sol)\n"
   ]
  },
  {
   "cell_type": "markdown",
   "metadata": {},
   "source": [
    "### Reading the response\n",
    "We can see in the tabulated response that there is now a `compartmentId` field which gives the allocation of tasks to compartments in the solution. This view of the response is useful, but we can check another view we've coded up to understand now the vehicle behaves over the course of the route.\n",
    "\n",
    "Lets have a look at the `compartmentSummary` table:"
   ]
  },
  {
   "cell_type": "code",
   "execution_count": null,
   "metadata": {},
   "outputs": [],
   "source": [
    "csummary = t['compartmentSummary']\n",
    "\n",
    "csummary[list(csummary.keys())[0]] # just grab the compartment summary for the first vehicle.\n"
   ]
  },
  {
   "cell_type": "markdown",
   "metadata": {},
   "source": [
    "So this is quite different to the solution in the basic example. \n",
    "\n",
    "In this table you can see that the the sum for compartments 1:4 is always less than 5:8. This way we're constrained by always having more weight on the bottom rack than the top rack throughout the route (which is still pretty well costed).\n",
    "\n",
    "The compartment summary table is a dictionary for each vehicle-capacitated-dimension combination.\n"
   ]
  },
  {
   "cell_type": "markdown",
   "metadata": {},
   "source": [
    "### What next?\n",
    "If this example makes sense you can jump onto the ivr8 advanced example!"
   ]
  }
 ],
 "metadata": {
  "kernelspec": {
   "display_name": "Python 3",
   "language": "python",
   "name": "python3"
  },
  "language_info": {
   "codemirror_mode": {
    "name": "ipython",
    "version": 3
   },
   "file_extension": ".py",
   "mimetype": "text/x-python",
   "name": "python",
   "nbconvert_exporter": "python",
   "pygments_lexer": "ipython3",
   "version": "3.6.9"
  }
 },
 "nbformat": 4,
 "nbformat_minor": 4
}
