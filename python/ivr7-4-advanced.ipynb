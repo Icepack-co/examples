{
 "cells": [
  {
   "cell_type": "markdown",
   "metadata": {},
   "source": [
    "# IVR7 Advanced Example\n",
    "This example aims to highlight the follow:\n",
    "* illustrate the usage of the data-upload as well as model versioning.\n",
    "* Builds a simple pickup/dropoff (similar to the basic model).\n",
    "* Illustrates how to use the parent solve-request container for evaluate requests against a versioned model\n",
    "  * This is a quicker manner in which to run evaluate requests against the api where a large chunk of model content is required to define the model. \n",
    "  * Send it once, then just run requests against that model and we'll handle moving the data around on the api-end.\n",
    "\n",
    "## Requirements\n",
    "This example assumes you've configured an api-key with the required services enabled (see the [portal](portal.icepack.ai) for configuration details) and that you're familiar with loading and working with protobuf models.\n",
    "\n",
    "## Data\n",
    "We're going to load sample data which has order sizes and durations in a tabular format.\n"
   ]
  },
  {
   "cell_type": "code",
   "execution_count": null,
   "metadata": {},
   "outputs": [],
   "source": [
    "import pandas\n",
    "df = pandas.read_csv('../../sample_data/publist_orders.csv')\n",
    "print(df.head())"
   ]
  },
  {
   "cell_type": "markdown",
   "metadata": {},
   "source": [
    "## Model Configuration\n",
    "This model builds the ivr7-basic example.\n",
    "The same dimensions (distance,time and capacity) are used as well as a handful of jobs, one vehicle cost class, one vehicle class and five vehicles."
   ]
  },
  {
   "cell_type": "code",
   "execution_count": null,
   "metadata": {
    "scrolled": true
   },
   "outputs": [],
   "source": [
    "exec(open('apiHelper.py').read()) # import some api-helper classes which we've written for you.\n",
    "exec(open('ivr7-model-helper.py').read()) # import some modelling helpers\n",
    "\n",
    "api = apiHelper(modelType=\"ivr7-kt461v8eoaif\") # set the model type to the ivr7 model\n",
    "\n",
    "sr = ivr7_kt461v8eoaif_pb2.SolveRequest()\n",
    "sr.solveType = 0 # optimise solve request\n",
    "\n",
    "m = sr.model\n",
    "m.dimensions.CopyFrom(make_distance_time_cap_dims())\n",
    "m.locations.extend(make_locations(df)) #using the wrapper function\n",
    "m.jobs.extend(make_job_time_cap(df, [0] * (df.shape[0]-1), range(1, df.shape[0])))\n",
    "m.vehicleCostClasses.append(make_vcc_simple('vcc1', 1000, 1.001e-2, 1.001e-2, 1.001e-2, 1, 3))\n",
    "m.vehicleClasses.append(make_vc_simple('vc1', 1, 1, 1, 1))\n",
    "for i in range(1,5):\n",
    "    m.vehicles.append( make_vehicle_cap('vehicle_' + str(i), 'vc1', 'vcc1',\n",
    "                                        2000, # the vehicle capacity\n",
    "                                        df['id'][0], # the start location\n",
    "                                        df['id'][0], # the end location\n",
    "                                        7*60,        # the start time (7AM)\n",
    "                                        18*60))       # the end time  (6PM)\n",
    "# at this point we have a complete model which we can run. So we can go ahead and do that!\n",
    "\n",
    "reqId = api.Post(sr)\n",
    "sol = api.Get(reqId)\n",
    "t = tabulate(sr, sol)"
   ]
  },
  {
   "cell_type": "markdown",
   "metadata": {},
   "source": [
    "### Configuration a cached model\n",
    "At this point we've built and run a basic model. Lets now use the objects, but submit them to the api through a different mechanism."
   ]
  },
  {
   "cell_type": "code",
   "execution_count": null,
   "metadata": {},
   "outputs": [],
   "source": [
    "data_api = apiHelper(modelType=\"ivrdata-o43e0dvs78zq\") # this instantiates a second model helper, \n",
    "                                            # one which works with data payloads\n",
    "\n",
    "data_model = ivrdata_o43e0dvs78zq_pb2.CachedModel()\n",
    "    \n",
    "data_model.model = m.SerializeToString() # so we save the model in serialised form here into the payload\n"
   ]
  },
  {
   "cell_type": "markdown",
   "metadata": {},
   "source": [
    "### Send the model to the api\n",
    "Next we can send the data to the api. This won't solve the model, it will only stage the model on the api-end so that you can reference it in subsequent requests. We'll save the request id which then refers to the data which has been versioned."
   ]
  },
  {
   "cell_type": "code",
   "execution_count": null,
   "metadata": {},
   "outputs": [],
   "source": [
    "modelID = data_api.Post(data_model)\n",
    "print(\"model id: \" + modelID)"
   ]
  },
  {
   "cell_type": "markdown",
   "metadata": {},
   "source": [
    "### Link the previous solve request to the versioned model on the api.\n",
    "We can now delete the previous model data and create a solve request which uses the model id we've just received from the api for the model which was uploaded."
   ]
  },
  {
   "cell_type": "code",
   "execution_count": null,
   "metadata": {},
   "outputs": [],
   "source": [
    "sr = ivr7_kt461v8eoaif_pb2.SolveRequest()\n",
    "sr.solveType = 0 # optimise solve request\n",
    "sr.modelID = modelID\n",
    "print(sr)\n",
    "# so an empty model, but a solve-request to optimise a data-model which has been loaded"
   ]
  },
  {
   "cell_type": "markdown",
   "metadata": {},
   "source": [
    "### Submit the solve request\n",
    "We can now send the solve-request to the api which will solve the model which has previously been uploaded."
   ]
  },
  {
   "cell_type": "code",
   "execution_count": null,
   "metadata": {},
   "outputs": [],
   "source": [
    "reqId = api.Post(sr)\n",
    "sol = api.Get(reqId)\n",
    "t = tabulate(sr, sol)"
   ]
  },
  {
   "cell_type": "markdown",
   "metadata": {},
   "source": [
    "This means that because we have a model which is versioned separately from the  solve request, we can use the solve request with the task-sequence and have that apply to a model. So lets extract the task sequence from the solved model."
   ]
  },
  {
   "cell_type": "markdown",
   "metadata": {},
   "source": [
    "### Extracting the task-sequence\n",
    "The aim now is to add a task-sequence to the model. In order to do that, we need to organise the data according to vehicle (i.e. provide a task-sequence per vehicle). We can query the tabulated data for the sequence filtering out the vehicle-start and vehicle-end nodes (these are implicitly created in the model).\n",
    "\n",
    "In addition, we don't really have a \"model\" because the master-data for the model is already on the api. So in this example, we can use the field on the solve-request to provide a task-sequence separately from the model."
   ]
  },
  {
   "cell_type": "code",
   "execution_count": null,
   "metadata": {},
   "outputs": [],
   "source": [
    "nodes = t['nodes']\n",
    "del sr.routes[:]\n",
    "for vid in set(nodes.vehicleId):\n",
    "    tseq = ivr7_kt461v8eoaif_pb2.TaskSequence()\n",
    "    tseq.vehicleId = vid\n",
    "    tseq.taskId.extend(list(nodes[~nodes.taskId.str.contains('Shift') & (nodes['vehicleId']==vid)].taskId))\n",
    "    sr.routes.append(tseq)\n",
    "\n",
    "sr.solveType = 1 # lets change this to an evaluate request now.\n",
    "print(sr) # so we only have a data-model reference, a task sequence, and an evaluate request"
   ]
  },
  {
   "cell_type": "markdown",
   "metadata": {},
   "source": [
    "### Re-run the model\n",
    "Now we can submit the evaluate request against the versioned model payload."
   ]
  },
  {
   "cell_type": "code",
   "execution_count": null,
   "metadata": {},
   "outputs": [],
   "source": [
    "reqId = api.Post(sr)\n",
    "sol_eval = api.Get(reqId)\n",
    "tab_eval = tabulate(sr, sol_eval)"
   ]
  },
  {
   "cell_type": "code",
   "execution_count": null,
   "metadata": {},
   "outputs": [],
   "source": [
    "tab_eval['edges']"
   ]
  },
  {
   "cell_type": "code",
   "execution_count": null,
   "metadata": {},
   "outputs": [],
   "source": [
    "tab_eval['nodes'].head()"
   ]
  },
  {
   "cell_type": "markdown",
   "metadata": {},
   "source": [
    "So a note on the tabular outputs here: The python class uses the solve request to pull out the master data that was used for a particular model (such as the location x-y geocode). In this case, because there is no model in the solve request it won't be able to tack on sensible values for the x,y (nodes) and fx,fy,tx,ty (edges). This is not really a problem because we have the master data on our end so we could update these columnns if we wanted to use them for something meaningful.\n",
    "\n",
    "### What next?\n",
    "The next advanced example or course!"
   ]
  }
 ],
 "metadata": {
  "kernelspec": {
   "display_name": "Python 3",
   "language": "python",
   "name": "python3"
  },
  "language_info": {
   "codemirror_mode": {
    "name": "ipython",
    "version": 3
   },
   "file_extension": ".py",
   "mimetype": "text/x-python",
   "name": "python",
   "nbconvert_exporter": "python",
   "pygments_lexer": "ipython3",
   "version": "3.6.9"
  }
 },
 "nbformat": 4,
 "nbformat_minor": 4
}
