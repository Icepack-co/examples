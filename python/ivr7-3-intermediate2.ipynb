{
 "cells": [
  {
   "cell_type": "markdown",
   "metadata": {},
   "source": [
    "# IVR7 Intermediate 2 Example\n",
    "This example aims to highlight the follow:\n",
    "* Builds a simple pickup/dropoff (similar to the basic model).\n",
    "* Runs an eval on a sub-sequence to illustrate how to call the endpoint (with an evaluate sequence) and\n",
    "* Interpret the responses in terms of infeasibility messages.\n",
    "\n",
    "## Requirements\n",
    "This example assumes you've configured an api-key with the required services enabled (see the [portal](portal.icepack.ai) for configuration details) and that you're familiar with loading and working with protobuf models.\n",
    "\n",
    "## Data\n",
    "We're going to load sample data which has order sizes and durations in a tabular format.\n"
   ]
  },
  {
   "cell_type": "code",
   "execution_count": null,
   "metadata": {},
   "outputs": [],
   "source": [
    "import pandas\n",
    "df = pandas.read_csv('../sample_data/publist_orders.csv')\n",
    "print(df.head())"
   ]
  },
  {
   "cell_type": "markdown",
   "metadata": {},
   "source": [
    "## Model Configuration\n",
    "This model builds the ivr7-basic example.\n",
    "The same dimensions (distance,time and capacity) are used as well as a handful of jobs, one vehicle cost class, one vehicle class and five vehicles."
   ]
  },
  {
   "cell_type": "code",
   "execution_count": null,
   "metadata": {
    "scrolled": true
   },
   "outputs": [],
   "source": [
    "exec(open('apiHelper.py').read()) # import some api-helper classes which we've written for you.\n",
    "exec(open('ivr7-model-helper.py').read()) # import some modelling helpers\n",
    "\n",
    "\n",
    "api = apiHelper(modelType=\"ivr7-kt461v8eoaif\") # set the model type to the ivr7 model\n",
    "\n",
    "sr = ivr7_kt461v8eoaif_pb2.SolveRequest()\n",
    "sr.solveType = 0 # optimise solve request\n",
    "\n",
    "m = sr.model\n",
    "m.dimensions.CopyFrom(make_distance_time_cap_dims())\n",
    "m.locations.extend(make_locations(df)) #using the wrapper function\n",
    "m.jobs.extend(make_job_time_cap(df, [0] * (df.shape[0]-1), range(1, df.shape[0])))\n",
    "m.vehicleCostClasses.append(make_vcc_simple('vcc1', 1000, 1.001e-2, 1.001e-2, 1.001e-2, 1, 3))\n",
    "m.vehicleClasses.append(make_vc_simple('vc1', 1, 1, 1, 1))\n",
    "for i in range(1,5):\n",
    "    m.vehicles.append( make_vehicle_cap('vehicle_' + str(i), 'vc1', 'vcc1',\n",
    "                                        2000, # the vehicle capacity\n",
    "                                        df['id'][0], # the start location\n",
    "                                        df['id'][0], # the end location\n",
    "                                        7*60,        # the start time (7AM)\n",
    "                                        18*60))       # the end time  (6PM)\n",
    "# at this point we have a complete model which we can run. So we can go ahead and do that!\n",
    "\n",
    "reqId = api.Post(sr)\n",
    "sol = api.Get(reqId)\n",
    "t = tabulate(sr, sol)\n",
    "\n",
    "t['nodes'].head()\n",
    "\n"
   ]
  },
  {
   "cell_type": "markdown",
   "metadata": {},
   "source": [
    "### Adding constraints to the model\n",
    "There are a few things we could do to the model now. We have a valid response for the model we ran - but we can update the model with additional constraints and then **evaluate** the existing solution to see which constraints are broken given the previous solution"
   ]
  },
  {
   "cell_type": "code",
   "execution_count": null,
   "metadata": {},
   "outputs": [],
   "source": [
    "# lets add some time windows to the model.\n",
    "for i,e in enumerate(m.locations):\n",
    "    la = ivr7_kt461v8eoaif_pb2.Location.Attribute()\n",
    "    la.dimensionId = 'time'\n",
    "    la.quantity = 0\n",
    "    w = ivr7_kt461v8eoaif_pb2.Window()\n",
    "    w.start = 8*60\n",
    "    w.end = 14*60\n",
    "    la.arrivalWindows.append(w)\n",
    "    m.locations[i].attributes.append(la)\n",
    "\n",
    "print(m.locations)"
   ]
  },
  {
   "cell_type": "markdown",
   "metadata": {},
   "source": [
    "### Extracting the task-sequence\n",
    "The aim now is to add a task-sequence to the model. In order to do that, we need to organise the data according to vehicle (i.e. provide a task-sequence per vehicle). We can query the tabulated data for the sequence filtering out the vehicle-start and vehicle-end nodes (these are implicitly created in the model)."
   ]
  },
  {
   "cell_type": "code",
   "execution_count": null,
   "metadata": {},
   "outputs": [],
   "source": [
    "nodes = t['nodes']\n",
    "del m.taskSequence[:]\n",
    "for vid in set(nodes.vehicleId):\n",
    "    tseq = ivr7_kt461v8eoaif_pb2.TaskSequence()\n",
    "    tseq.vehicleId = vid\n",
    "    tseq.taskId.extend(list(nodes[~nodes.taskId.str.contains('Shift') & (nodes['vehicleId']==vid)].taskId))\n",
    "    m.taskSequence.append(tseq)\n",
    "    \n",
    "print(m.taskSequence) # this then defines the sequence for each vehicle which we want to evalute"
   ]
  },
  {
   "cell_type": "markdown",
   "metadata": {},
   "source": [
    "### Re-run the model\n",
    "We're going to submit this modified model to the api - but this time we're going to save the results separately so that we can contrast it against the model which has already been run.\\\n",
    "\n",
    "**Rememeber:** we need to change the solve request type to an evaluate request - otherwise the solver will simply solve this new problem within the constraints specified, when what we want is to actually see which constraints are broken."
   ]
  },
  {
   "cell_type": "code",
   "execution_count": null,
   "metadata": {},
   "outputs": [],
   "source": [
    "sr.solveType = 1 # for an evaluate request\n",
    "reqId = api.Post(sr)\n",
    "evalsol = api.Get(reqId)\n",
    "evalt = tabulate(sr, evalsol)"
   ]
  },
  {
   "cell_type": "markdown",
   "metadata": {},
   "source": [
    "Lets check the solution response and see if any infeasibilities were generated as a result of the additional constraints added to the model."
   ]
  },
  {
   "cell_type": "code",
   "execution_count": null,
   "metadata": {},
   "outputs": [],
   "source": [
    "print(evalsol.infeasibilities)\n",
    "# so there are quite a few here - which is okay. Lets check it in tabular form."
   ]
  },
  {
   "cell_type": "code",
   "execution_count": null,
   "metadata": {},
   "outputs": [],
   "source": [
    "evalt['infeasibilities']"
   ]
  },
  {
   "cell_type": "markdown",
   "metadata": {},
   "source": [
    "So here we should have some constraints which have been broken.\n",
    "We get told which dimension is related (if the constraint is related to a dimension) as well as which type of constraint (if known) and the degree to which the constraint is broken.\n",
    "\n",
    "If the constraints are tardy constraints being broken, this means the task starts AFTER the allowable window. The limit will be often be zero, the value will be the amount by which the vehicle is late. We can check the arrival time of the task to verify this:"
   ]
  },
  {
   "cell_type": "code",
   "execution_count": null,
   "metadata": {},
   "outputs": [],
   "source": [
    "nodes = evalt['nodes']\n",
    "infeasibleTasks = evalt['infeasibilities'].taskId\n",
    "\n",
    "latestops = nodes[nodes.taskId.isin(infeasibleTasks)][['stopId', 'sequence', 'locationId', 'taskId', 'time_start', 'time_end']]\n",
    "latestops['windowBroken'] = latestops['time_start'] > 14*60\n",
    "latestops\n"
   ]
  },
  {
   "cell_type": "markdown",
   "metadata": {},
   "source": [
    "This verifies that all these tasks flagged as infeasible are indeed breaking the window constraint we added to the original model. These kinds of exercises are useful if you perform a drag-and-drop on an interface to move stops around and want to see if the resulting route is feasible or not (and perhaps indicate to a user which tasks are infeasible given the proposed sequence).\n",
    "\n",
    "We can simply remove the tasks from the evaluation sequence which are breaking constraints. You'll notice though, that most of the tasks breaking the constraints are actually the dropoff tasks (because the pickups occur within the feasible window of time) "
   ]
  },
  {
   "cell_type": "code",
   "execution_count": null,
   "metadata": {},
   "outputs": [],
   "source": [
    "for i, e in enumerate(m.taskSequence):\n",
    "    remainingTasks = list()\n",
    "    for ti, tsk in enumerate(e.taskId):\n",
    "        if tsk not in list(latestops.taskId):\n",
    "            remainingTasks.append(tsk)\n",
    "    del e.taskId[:] \n",
    "    e.taskId.extend(remainingTasks)\n"
   ]
  },
  {
   "cell_type": "markdown",
   "metadata": {},
   "source": [
    "We can then go ahead and rerun the the model without the dropoff tasks (which have been excluded from the task-sequence above)"
   ]
  },
  {
   "cell_type": "code",
   "execution_count": null,
   "metadata": {},
   "outputs": [],
   "source": [
    "reqId = api.Post(sr)\n",
    "evalsol = api.Get(reqId)\n",
    "evalt = tabulate(sr, evalsol)\n",
    "evalt['infeasibilities']"
   ]
  },
  {
   "cell_type": "markdown",
   "metadata": {},
   "source": [
    "This is again, rather intuitive. We find that there are a whole bunch of precendence constraints which are then broken, cumul-pair constraints and task-pair constraints. This is because there's a relation between the pickup and dropoff and either they're BOTH scheduled or BOTH unscheduled. Having one task assigned to a vehicle in the schedule without the other breaks a bunch of constraints. So lets apply the same trick and remove these pickup stops which are breaking constraints."
   ]
  },
  {
   "cell_type": "code",
   "execution_count": null,
   "metadata": {},
   "outputs": [],
   "source": [
    "badTasks = list()\n",
    "for i, e in enumerate(evalsol.infeasibilities):\n",
    "    badTasks.append(e.taskId)\n",
    "\n",
    "for i, e in enumerate(m.taskSequence):\n",
    "    remainingTasks = list()\n",
    "    for ti, tsk in enumerate(e.taskId):\n",
    "        if tsk not in badTasks:\n",
    "            remainingTasks.append(tsk)\n",
    "    del e.taskId[:] \n",
    "    e.taskId.extend(remainingTasks)\n",
    "# and then run the model again\n",
    "reqId = api.Post(sr)\n",
    "evalsol = api.Get(reqId)\n",
    "evalt = tabulate(sr, evalsol)\n",
    "evalt['infeasibilities']"
   ]
  },
  {
   "cell_type": "markdown",
   "metadata": {},
   "source": [
    "and now there are no infeasibilities returned by the solver. So the remaining stops that are assigned to the vehicles are indeed feasible. The catch here is that the solution cost is quite a bit higher than if we had simply let the scheduler re-work the schedule around the constraints that we added.\n"
   ]
  },
  {
   "cell_type": "code",
   "execution_count": null,
   "metadata": {},
   "outputs": [],
   "source": [
    "print(sol.objective)\n",
    "print(evalsol.objective)\n",
    "print(sol.objective < evalsol.objective) # this is because we now have orders which have been omitted from the schedule"
   ]
  },
  {
   "cell_type": "markdown",
   "metadata": {},
   "source": [
    "We can simply modify the solve request which is set to `evaluate` back to `optimise` in order to see if a better solution can be found within the new constraints."
   ]
  },
  {
   "cell_type": "code",
   "execution_count": null,
   "metadata": {},
   "outputs": [],
   "source": [
    "sr.solveType = 0\n",
    "reqId = api.Post(sr)\n",
    "windowsol = api.Get(reqId)\n",
    "t_windows = tabulate(sr, windowsol)\n",
    "print(t_windows['infeasibilities'])\n",
    "print(windowsol.objective)"
   ]
  },
  {
   "cell_type": "markdown",
   "metadata": {},
   "source": [
    "The solution found by the solver does indeed cost more than before, but, there are no broken constraints and it found a solution which meets all the demand, making it cheaper than the evaluation sequences we provided.\n",
    "I.e:"
   ]
  },
  {
   "cell_type": "code",
   "execution_count": null,
   "metadata": {},
   "outputs": [],
   "source": [
    "print(windowsol.objective < evalsol.objective)\n",
    "print(sol.objective < windowsol.objective)"
   ]
  },
  {
   "cell_type": "markdown",
   "metadata": {},
   "source": [
    "### What next?\n",
    "The advanced ivr examples are a good next step if you're comfortable with this example."
   ]
  }
 ],
 "metadata": {
  "kernelspec": {
   "display_name": "Python 3",
   "language": "python",
   "name": "python3"
  },
  "language_info": {
   "codemirror_mode": {
    "name": "ipython",
    "version": 3
   },
   "file_extension": ".py",
   "mimetype": "text/x-python",
   "name": "python",
   "nbconvert_exporter": "python",
   "pygments_lexer": "ipython3",
   "version": "3.6.9"
  }
 },
 "nbformat": 4,
 "nbformat_minor": 4
}
