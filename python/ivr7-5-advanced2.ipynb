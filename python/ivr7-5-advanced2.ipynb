{
 "cells": [
  {
   "cell_type": "markdown",
   "metadata": {},
   "source": [
    "# IVR7 Advanced 2 Example\n",
    "This example aims to highlight the follow:\n",
    "* illustrate the usage of the data-upload as well as model versioning.\n",
    "* Builds a simple pickup/dropoff (similar to the basic model).\n",
    "* Configures \"open routing\" - i.e. do not cost the return legs for the vehicles to the end-location\n",
    "* Illustrates how to reference matrix data in a (potentially) versioned model.\n",
    "* or load overriding elements on a particular matrix directly.\n",
    "  * one can provide a complete matrix in this manner too if needed!\n",
    "\n",
    "## Requirements\n",
    "This example assumes you've configured an api-key with the required services enabled (see the [portal](portal.icepack.ai) for configuration details) and that you're familiar with loading and working with protobuf models.\n",
    "\n",
    "## Data\n",
    "We're going to load sample data which has order sizes and durations in a tabular format.\n"
   ]
  },
  {
   "cell_type": "code",
   "execution_count": null,
   "metadata": {},
   "outputs": [],
   "source": [
    "import pandas\n",
    "df = pandas.read_csv('../../sample_data/publist_orders.csv')\n",
    "print(df.head())"
   ]
  },
  {
   "cell_type": "markdown",
   "metadata": {},
   "source": [
    "## Model Configuration\n",
    "This model builds the ivr7-basic example.\n",
    "The same dimensions (distance,time and capacity) are used as well as a handful of jobs, one vehicle cost class, one vehicle class and five vehicles.\n",
    "\n",
    "**note**: we're going to add an extra location called \"vehicle-site\" to the model. This is going to allow us to accurately control the distances between locations, differentiating between those at the pickup site (Guiness storehouse) and the vehicle end-site ('vehicle-site')"
   ]
  },
  {
   "cell_type": "code",
   "execution_count": null,
   "metadata": {
    "scrolled": true
   },
   "outputs": [],
   "source": [
    "exec(open('apiHelper.py').read()) # import some api-helper classes which we've written for you.\n",
    "exec(open('ivr7-model-helper.py').read()) # import some modelling helpers\n",
    "\n",
    "api = apiHelper(modelType=\"ivr7-kt461v8eoaif\") # set the model type to the ivr7 model\n",
    "\n",
    "sr = ivr7_kt461v8eoaif_pb2.SolveRequest()\n",
    "sr.solveType = 0 # optimise solve request\n",
    "\n",
    "m = sr.model\n",
    "m.dimensions.CopyFrom(make_distance_time_cap_dims())\n",
    "m.locations.extend(make_locations(df)) \n",
    "m.locations.append(m.locations[0]) # just copy the Guiness storehouse location\n",
    "m.locations[len(m.locations) - 1].id = 'vehicle-site' #rename it and we're good to go (location id's need to be unique in a model)\n",
    "m.jobs.extend(make_job_time_cap(df, [0] * (df.shape[0]-1), range(1, df.shape[0])))\n",
    "m.vehicleCostClasses.append(make_vcc_simple('vcc1', 1000, 1.001e-2, 1.001e-2, 1.001e-2, 1, 3))\n",
    "m.vehicleClasses.append(make_vc_simple('vc1', 1, 1, 1, 1))\n",
    "for i in range(1,5):\n",
    "    m.vehicles.append( make_vehicle_cap('vehicle_' + str(i), 'vc1', 'vcc1',\n",
    "                                        2000, # the vehicle capacity\n",
    "                                        'vehicle-site', # the start location\n",
    "                                        'vehicle-site', # the end location\n",
    "                                        7*60,        # the start time (7AM)\n",
    "                                        18*60))       # the end time  (6PM)\n",
    "# at this point we have a complete model which we can continue to manipulate"
   ]
  },
  {
   "cell_type": "markdown",
   "metadata": {},
   "source": [
    "### Manipulating the model\n",
    "We've created vehicles which need to start/end at \"vehicle-site\". Now we can make the last change which is to override the distance between locations and the \"vehicle-site\". we're only going to modify the distances FROM locations TO \"vehicle-site\". If you wanted to do complete line-haul outsourcing-style modelling, you could also do this for \"vehicle-site\" TO all alocations. For now, we'll just demonstrate the open routing case (i.e. the last leg is not costed). This is more common in practice as you'll try to find hauliers which start close to the footprint you're modelling.\n",
    "\n",
    "You have two ways of doing this. Upload it via the data-api, or upload it as part of the model.\n",
    "Feel free to modify the value of `dataUpload` to understand the two different code-paths.\n"
   ]
  },
  {
   "cell_type": "markdown",
   "metadata": {},
   "source": [
    "### Configuration a cached model\n",
    "At this point we've built and run a basic model. Lets now use the objects, but submit them to the api through a different mechanism."
   ]
  },
  {
   "cell_type": "code",
   "execution_count": null,
   "metadata": {},
   "outputs": [],
   "source": [
    "dataUpload = True\n",
    "\n",
    "if dataUpload:\n",
    "    data_api = apiHelper(modelType=\"ivrdata-o43e0dvs78zq\") # this instantiates a second model helper, \n",
    "                                                           # one which works with data payloads\n",
    "    data_model = ivrdata_o43e0dvs78zq_pb2.CachedTransitSet()\n",
    "    for i in range(0, len(m.locations) - 1):\n",
    "        tv = ivrdata_o43e0dvs78zq_pb2.TransitSet.TransitValue()\n",
    "        tv.fromId = m.locations[i].id\n",
    "        tv.toId = 'vehicle-site'\n",
    "        tv.value = 0\n",
    "        data_model.transitSet.transits.append(tv)\n",
    "    modelID = data_api.Post(data_model) # send the transit sets to the api\n",
    "    print(\"data model reference: \" + modelID)\n",
    "else:\n",
    "    ts = ivr7_kt461v8eoaif_pb2.TransitSet()\n",
    "    for i in range(0, len(m.locations) - 1):\n",
    "        tv = ivr7_kt461v8eoaif_pb2.TransitSet.TransitValue()\n",
    "        tv.fromId = m.locations[i].id\n",
    "        tv.toId = 'vehicle-site'\n",
    "        tv.value = 0\n",
    "        ts.transits.append(tv)\n",
    "    print(ts.transits[1:5]) # just display the first five\n",
    "    \n",
    "    \n",
    "\n",
    "tgen_d = ivr7_kt461v8eoaif_pb2.TransitGenerator()\n",
    "tgen_d.id = 'custom_distance'\n",
    "tgen_t = ivr7_kt461v8eoaif_pb2.TransitGenerator()\n",
    "tgen_t.id = 'custom_time'\n",
    "\n",
    "# now depending on the code path, we either upload this using the modelID or the transit set in the model\n",
    "if dataUpload:\n",
    "    tgen_d.requestId = modelID # link this to the data we uploaded earlier\n",
    "    tgen_t.requestId = modelID # we can do this because it's actually the same data (a column of zeros)\n",
    "else:\n",
    "    tgen_d.transitSet.CopyFrom(ts)\n",
    "    tgen_t.transitSet.CopyFrom(ts)\n",
    "\n",
    "del m.transitGenerators[:] # in case you want to run this twice\n",
    "m.transitGenerators.extend([tgen_d, tgen_t]) # so this adds the custom transit generators to the model\n",
    "\n",
    "#print(m.transitGenerators)\n"
   ]
  },
  {
   "cell_type": "markdown",
   "metadata": {},
   "source": [
    "### Linking up the custom transits\n",
    "The last step required to link up the custom transits is to give a heads up to the vehicle classes that they should apply these custom-transits. We're going to keep the existing road-network transit generator in the list of attributes, but we're going to add an additional attribute for the `distance` and `time` dimension. The order is important here, the solver will pull through the attributes in the order provided for each dimension, so first the road-network matrix, then the custom matrix data. This allows us to effectively update the road-network data with our custom transits."
   ]
  },
  {
   "cell_type": "code",
   "execution_count": null,
   "metadata": {},
   "outputs": [],
   "source": [
    "# first the custom time \n",
    "t_attr = ivr7_kt461v8eoaif_pb2.VehicleClass.Attribute()\n",
    "t_attr.dimensionId = 'time'\n",
    "t_attr.transitGeneratorId = 'custom_time'\n",
    "t_attr.transitCoef = 1.0\n",
    "t_attr.locationCoef = 1.0\n",
    "t_attr.taskCoef = 1.0\n",
    "m.vehicleClasses[0].attributes.append(t_attr)\n",
    "\n",
    "d_attr = ivr7_kt461v8eoaif_pb2.VehicleClass.Attribute()\n",
    "d_attr.dimensionId = 'distance'\n",
    "d_attr.transitGeneratorId = 'custom_distance'\n",
    "d_attr.transitCoef = 1.0\n",
    "m.vehicleClasses[0].attributes.append(d_attr)\n",
    "\n",
    "print(m.vehicleClasses)\n"
   ]
  },
  {
   "cell_type": "markdown",
   "metadata": {},
   "source": [
    "### Send the model to the api\n",
    "We can now submit the model to the api."
   ]
  },
  {
   "cell_type": "code",
   "execution_count": null,
   "metadata": {},
   "outputs": [],
   "source": [
    "reqId = api.Post(sr)\n",
    "sol = api.Get(reqId)\n",
    "t = tabulate(sr, sol)\n"
   ]
  },
  {
   "cell_type": "markdown",
   "metadata": {},
   "source": [
    "### Checking the output\n",
    "We can confirm the effect of the custom distane and time on the output of the model. Lets focus on the transit edges that connect the last node to the vehicle-end sites. These values should be zero if we expressed things correctly to the api:"
   ]
  },
  {
   "cell_type": "code",
   "execution_count": null,
   "metadata": {},
   "outputs": [],
   "source": [
    "edges = t['edges']\n",
    "edges['distance_delta'] = edges['distance_end'] - edges['distance_end']\n",
    "edges['time_delta'] = edges['time_end'] - edges['time_end']\n",
    "w = edges['toLocationId'] == 'vehicle-site'\n",
    "edges[['fromStopId', 'toStopId', 'fromLocationId', 'toLocationId','distance_delta', 'time_delta', 'distance_start', \n",
    "      'distance_end', 'time_start', 'time_end']][w]\n",
    "\n",
    "# and there we have it. The distance and time deltas on the last two legs from the last \n",
    "# location to the vehicle-site are zero"
   ]
  },
  {
   "cell_type": "markdown",
   "metadata": {},
   "source": [
    "### Visualise the response\n",
    "Now we can visualise this. We woudl expect to see that the last stop on a route is quite far from the depot because the stops which are farthest away from all the other nodes are typically the points at which the route should end (because you're saving the most in terms of distance and time).\n"
   ]
  },
  {
   "cell_type": "code",
   "execution_count": null,
   "metadata": {},
   "outputs": [],
   "source": [
    "from ipyleaflet import Map, Polyline, Circle, LayerGroup\n",
    "\n",
    "cvec = list(['blue', 'red', 'orange', 'green', 'black'])\n",
    "cdict = {}\n",
    "for i in range(0,5):\n",
    "    cdict['vehicle_' + str(i)] = cvec[i]\n",
    "\n",
    "\n",
    "# form some locations to add to the map (just green dots seems ok)\n",
    "locs = list()\n",
    "for index, p in t['nodes'].iterrows():\n",
    "    circle = Circle()\n",
    "    circle.location = (p['y'], p['x'])\n",
    "    circle.radius = 10\n",
    "    circle.color = \"green\"\n",
    "    locs.append(circle)\n",
    "\n",
    "center = [df['Y'][1],df['X'][1]] # just use the first point as the center (i.e. the depot)\n",
    "m = Map(scroll_wheel_zoom=True, center=center, zoom=12)\n",
    "for i, gs in enumerate(t['edges']['geometry']):\n",
    "    if t['edges']['toLocationId'][i] != 'vehicle-site': # we don't want to plot these edges\n",
    "        m.add_layer(Polyline(locations=gs,color=cdict[t['edges']['vehicleId'][i]],fill=False))\n",
    "\n",
    "m.add_layer(LayerGroup(layers=(locs)))\n",
    "m"
   ]
  },
  {
   "cell_type": "markdown",
   "metadata": {},
   "source": [
    "### What next?\n",
    "We suggest you have a look at the IVR8 examples on how to use compartments (should your model require this degree of modelling)."
   ]
  }
 ],
 "metadata": {
  "kernelspec": {
   "display_name": "Python 3",
   "language": "python",
   "name": "python3"
  },
  "language_info": {
   "codemirror_mode": {
    "name": "ipython",
    "version": 3
   },
   "file_extension": ".py",
   "mimetype": "text/x-python",
   "name": "python",
   "nbconvert_exporter": "python",
   "pygments_lexer": "ipython3",
   "version": "3.6.9"
  }
 },
 "nbformat": 4,
 "nbformat_minor": 4
}
