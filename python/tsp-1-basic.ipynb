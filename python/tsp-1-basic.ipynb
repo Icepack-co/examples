{
 "cells": [
  {
   "cell_type": "markdown",
   "metadata": {},
   "source": [
    "# Travelling Salesman Problem (TSP)\n",
    "## Introduction\n",
    "The objective of a TSP is to find the optimal route through a network which visits all the nodes.  This notebook is a worked example of using the Icepack TSP solver to find a solution to a given TSP problem.\n",
    "\n",
    "## Requirements\n",
    "* **Protobuf** (Google's Protocol Buffers library) (https://pypi.org/project/protobuf/) `pip install protobuf`\n",
    "* **Requests** (HTTP Python library) `pip install requests`\n",
    "* **Plotting** (ipyleaflet) [installation instructions here](https://github.com/jupyter-widgets/ipyleaflet)\n",
    "* Icepack API token of a key that has the Travelling Salesman Problem Solver enabled\n",
    "\n",
    "## Protocol Buffers (Protobuf)\n",
    "Developed for internal use by Google, Protocol Buffers are a flexible, efficient, automated mechanism for serialising structured data into a binary stream.\n",
    "\n",
    "The proto definition file (`.proto`) defines the messages and services which is then complied using the protocol buffer compiler (`protoc`) to create code that can then be used to read and write messages. This repo includes precompiled message streams that are compatible with `protobuf 3.6.0` and above. If you require an older version of protobuf on your sub-system, feel free to recompile the `problem_pb2.py` and `tsp_mcvfz472gty6_pb2.py` files by running your own protobuf compiler (`protoc`) against the schema files (`problem.proto` and `tsp-mcvfz472gty6.proto`) as follows:\n",
    "\n",
    "`protoc --python_out=. problem.proto`\n",
    "\n",
    "`protoc --python_out=. tsp-mcvfz472gty6.proto`\n",
    "\n",
    "This generates `problem_pb2` and `tsp_mcvfz472gty6_pb2` with the version of protobuf you have installed which can then be used the serialise the api messages.\n",
    "\n",
    "### Protobuf Reference Materials\n",
    "* [Developer Guide](https://developers.google.com/protocol-buffers/docs/overview)\n",
    "* [Python Basics](https://developers.google.com/protocol-buffers/docs/pythontutorial)\n",
    "* [Python Reference](https://developers.google.com/protocol-buffers/docs/reference/python-generated)\n",
    "\n",
    "## Icepack Client Portal\n",
    "The Icepack Client Portal can accessed [here](https://portal.icepack.ai).  This site gives your team access to an API key from which personal tokens can be generated to be used to access Icepack services. The site also allows for the monitoring of requests made by your team.\n",
    "\n",
    "### API Key\n",
    "All teams will initially have a single API key and, depending on your service plan, additional keys may be created.\n",
    "\n",
    "Each team member will need to create a personal token for each key to which they are assigned.  This token is NOT stored by Icepack and it is up to you to ensure you save the token somewhere safe.\n",
    "\n",
    "Tokens can be rotated at any point.  This won't affect other team member's tokens which will remain valid.  Members with the role of Team Owner or Admin can force all team members to rotate their personal tokens while members assigned the User role will only be able to rotate their own token.  \n",
    "\n",
    "The Team Owner and Admin members can also edit the name and description of team keys as well as assign and unassign members and enable or disable Icepack services.\n",
    "\n",
    "## TSP Set Up\n",
    "The Icepack TSP service only requires the locations to be visited.  Each location requires an ID, and a pair of coordinates. For earth-routing, x and y (as cartesian coordinates) map to the location's longitude and latitude.\n",
    "\n",
    "> Please check the regions currently covered [here](https://docs.scrudu.io/about/regions/#readout). If your geocodes fall outside this region we will assume a zero distance between points (and an unreasonable result will follow)."
   ]
  },
  {
   "cell_type": "code",
   "execution_count": null,
   "metadata": {},
   "outputs": [],
   "source": [
    "import pandas\n",
    "df = pandas.read_csv('../sample_data/publist.csv')\n",
    "print(df.head())\n"
   ]
  },
  {
   "cell_type": "markdown",
   "metadata": {},
   "source": [
    "### Create the TSP model\n",
    "In this next section we perform the following:\n",
    "* load a api helper class to assist with requests/serialisation to the icepack api\n",
    "* load a tsp solve request class\n",
    "* Populate the tsp model with geocodes\n",
    "\n",
    "The api-helper assumes there's a `config.json` file which has your key and the end-point details. If you receive an error saying you haven't configured an api-key, please sign up on [the portal](portal.icepack.ai) and grab a key on the free tier services - no credit card details required!"
   ]
  },
  {
   "cell_type": "code",
   "execution_count": null,
   "metadata": {},
   "outputs": [],
   "source": [
    "exec(open('apiHelper.py').read()) # import some helper classes which we've written for you.\n",
    "\n",
    "api = apiHelper(modelType=\"tsp-mcvfz472gty6\")\n",
    "\n",
    "sr = tsp_mcvfz472gty6_pb2.SolveRequest()\n",
    "sr.solveType = 0\n",
    "\n",
    "m = sr.model\n",
    "\n",
    "# or add them individually \n",
    "for index, row in df.iterrows():\n",
    "  l = tsp_mcvfz472gty6_pb2.Geocode()\n",
    "  l.id = row['id']\n",
    "  l.x = row['X']\n",
    "  l.y = row['Y']\n",
    "  m.points.append(l)  \n",
    "\n",
    "print(m) # that's what the model looks like, not too shabby.\n",
    "\n"
   ]
  },
  {
   "cell_type": "markdown",
   "metadata": {},
   "source": [
    "### Send the model the api\n",
    "We can simply post the post the model to the api using the method on the helper class we loaded earlier."
   ]
  },
  {
   "cell_type": "code",
   "execution_count": null,
   "metadata": {},
   "outputs": [],
   "source": [
    "reqId = api.Post(sr)\n",
    "print(reqId) # if you want to see what the guid looks like."
   ]
  },
  {
   "cell_type": "markdown",
   "metadata": {},
   "source": [
    "### Get the answer\n",
    "The guid returned above by the api is a unique token for us to retrieve the solution to the model we sent the api. We can now get the response for that request id (again, using a helper method).\n",
    "If you're interested to see what's happening in the helper class, check out the `apiHelper.py` class."
   ]
  },
  {
   "cell_type": "code",
   "execution_count": null,
   "metadata": {},
   "outputs": [],
   "source": [
    "sol = api.Get(reqId)\n",
    "\n",
    "print(sol.tour) # which is the sequence of geocode-id's we should follow to do perform an optimal tour!\n"
   ]
  },
  {
   "cell_type": "markdown",
   "metadata": {},
   "source": [
    "### Reading the solution\n",
    "You'll notice that the start and end point at both `The Oval Bar Dublin`: this is no mistake. We need to end the tour where we started, so this is indeed correct!\n",
    "\n",
    "The api-helper also printed all the messages received by the api. This important to look at for more complex models with larger amount of master data. Warning messages and errors will be logged here to guide you on where the model might not be making sense to the api.\n",
    "\n",
    "### Visualising the response\n",
    "The api is quite smart, and knows that you're interested in using the road-network to execute your tour so it attached all the data we need to plot the optimal tour. \n",
    "\n",
    "We can left-join the tour onto our original pandas dataframe (which will provide a sorted order to the sequence) if we want to plot straight line segments. Lets have a quick look at an edge:"
   ]
  },
  {
   "cell_type": "code",
   "execution_count": null,
   "metadata": {},
   "outputs": [],
   "source": [
    "tour= pandas.DataFrame(list(sol.tour), columns=['tour'])\n",
    "tour.head()"
   ]
  },
  {
   "cell_type": "code",
   "execution_count": null,
   "metadata": {},
   "outputs": [],
   "source": [
    "\n",
    "tourpts = pandas.merge(tour,df,left_on='tour',right_on='id', how = 'left').drop(['id'], axis=1)\n",
    "tourpts.head()\n"
   ]
  },
  {
   "cell_type": "markdown",
   "metadata": {},
   "source": [
    "### Edges\n",
    "Each edge provides a starting location, an end location, and the long/lat series which can be interpreted as a line-string."
   ]
  },
  {
   "cell_type": "code",
   "execution_count": null,
   "metadata": {},
   "outputs": [],
   "source": [
    "print(sol.edges[0]) # just looking at the data contained in the first \"edge\" between stop 0 and stop 1"
   ]
  },
  {
   "cell_type": "code",
   "execution_count": null,
   "metadata": {},
   "outputs": [],
   "source": [
    "# so we want a list of list of pairs (y,x => lat, lon).\n",
    "from ipyleaflet import Map, Polyline, Circle, LayerGroup\n",
    "\n",
    "#stops\n",
    "locs = list()\n",
    "for index, p in tourpts.iterrows():\n",
    "    circle = Circle()\n",
    "    circle.location = (p['Y'], p['X'])\n",
    "    circle.radius = 10\n",
    "    circle.color = \"green\"\n",
    "    locs.append(circle)\n",
    "\n",
    "#routes\n",
    "routes = list()\n",
    "for i, e in enumerate(sol.edges):\n",
    "    route = list()\n",
    "    for j, p in enumerate(e.geometry):\n",
    "        route.append([p.y, p.x])  #ipyleaflet neets this in lat-lon format - cartographically correct. Cartesianially incorrect :-) \n",
    "    routes.append(route)\n",
    "    \n",
    "center = [df['Y'][1],df['X'][1]] # just use the first point as the cetner.\n",
    "m = Map(scroll_wheel_zoom=True, center=center, zoom=12)\n",
    "m.add_layer(Polyline(locations = routes, \n",
    "                     color=\"blue\", \n",
    "                     fill = False))\n",
    "m.add_layer(LayerGroup(layers=(locs)))\n",
    "m\n"
   ]
  },
  {
   "cell_type": "markdown",
   "metadata": {},
   "source": [
    "## Request Statistics\n",
    "The statistics for all recent requests, including the solve duration, can be viewed in the dashboard of the [Icepack Client Portal](https://portal.icepack.ai/dashboard)."
   ]
  },
  {
   "cell_type": "code",
   "execution_count": null,
   "metadata": {},
   "outputs": [],
   "source": []
  }
 ],
 "metadata": {
  "kernelspec": {
   "display_name": "Python 3",
   "language": "python",
   "name": "python3"
  },
  "language_info": {
   "codemirror_mode": {
    "name": "ipython",
    "version": 3
   },
   "file_extension": ".py",
   "mimetype": "text/x-python",
   "name": "python",
   "nbconvert_exporter": "python",
   "pygments_lexer": "ipython3",
   "version": "3.6.9"
  }
 },
 "nbformat": 4,
 "nbformat_minor": 4
}
