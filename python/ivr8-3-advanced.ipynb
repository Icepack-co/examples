{
 "cells": [
  {
   "cell_type": "markdown",
   "metadata": {},
   "source": [
    "# IVR8 Advanced Example\n",
    "This example aims to highlight the follow:\n",
    " * demonstrate how to use compartment constraints on a particular model\n",
    " * Use a subset of the publist stops and configure a single vehicle\n",
    " * Use a simple **one-rack** comparment configuration\n",
    " * Add allowable-compartment assignments (i.e. which jobs may be assigned to which compartments)\n",
    "\n",
    "## Requirements\n",
    "This example assumes you've configured an api-key with the required services enabled (see the [portal](portal.icepack.ai) for configuration details) and that you're familiar with loading and working with protobuf models.\n",
    "\n",
    "## Data\n",
    "We're going to load sample data which has order sizes and durations in a tabular format. The first 9 items will be sufficient for this exercise (item 1 being the depot, and 8 for orders)\n"
   ]
  },
  {
   "cell_type": "code",
   "execution_count": null,
   "metadata": {},
   "outputs": [],
   "source": [
    "import pandas\n",
    "df = pandas.read_csv('../../sample_data/publist_orders.csv').head(9)\n",
    "print(df.head())"
   ]
  },
  {
   "cell_type": "markdown",
   "metadata": {},
   "source": [
    "## Model helper\n",
    "As with the previous example, we'll be using the model helper and creating a top rack / lower rack style of compartments.\n",
    "\n",
    "We're going to start by creating an ivr8 model and populating it with some basic information."
   ]
  },
  {
   "cell_type": "code",
   "execution_count": null,
   "metadata": {},
   "outputs": [],
   "source": [
    "exec(open('apiHelper.py').read()) # import some api-helper classes which we've written for you.\n",
    "exec(open('ivr8-model-helper.py').read()) # import some modelling helpers\n",
    "\n",
    "api = apiHelper(modelType=\"ivr8-yni1c9k2swof\") # set the model type to the ivr8 model\n",
    "\n",
    "sr = ivr8_yni1c9k2swof_pb2.SolveRequest()\n",
    "sr.solveType = 0 # optimise solve request\n",
    "\n",
    "m = sr.model\n",
    "m.dimensions.CopyFrom(make_distance_time_cap_dims())\n",
    "m.locations.extend(make_locations(df)) \n",
    "m.locations.append(m.locations[0]) # just copy the Guiness storehouse location\n",
    "m.locations[len(m.locations) - 1].id = 'vehicle-site' #rename it and we're good to go (location id's need to be unique in a model)\n",
    "m.jobs.extend(make_job_time_cap(df, [0] * (df.shape[0]-1), range(1, df.shape[0])))\n",
    "m.vehicleCostClasses.append(make_vcc_simple('vcc1', 1000, 1.001e-2, 1.001e-2, 1.001e-2, 1, 3))\n",
    "m.vehicleClasses.append(make_vc_simple('vc1', 1, 1, 1, 1))\n",
    "m.vehicles.append(make_vehicle_cap('vehicle_1', 'vc1', 'vcc1', #create just one vehicle\n",
    "                                    2000, # the vehicle capacity\n",
    "                                    df['id'][0], # the start location\n",
    "                                    df['id'][0], # the end location\n",
    "                                    7*60,        # the start time (7AM)\n",
    "                                    18*60))      # the end time  (6PM)\n",
    "\n"
   ]
  },
  {
   "cell_type": "markdown",
   "metadata": {},
   "source": [
    "### Compartment definition\n",
    "A compartment is a container in which tasks can be placed. Several compartments can be assigned to a vehicle, comprising what we call a `compartment-set`. We can place constraints on individual compartments from an assignmnet perspective (i.e. some tasks may only be assigned to certain compartments) as well as individual constraints on the capacity of a compartment (with respect to some defined dimensions). \n",
    "\n",
    "Lets make a simple example where we have a vehicle who's compartments are layed out as follows:\n",
    "\n",
    "\n",
    "| Rack         |       |       |       |       |\n",
    "| -------------|-------|-------|-------|-------|\n",
    "| Lower Rack   | c1:500|c2:500 |c3:500 |c8:500 |\n",
    "\n",
    "So we have 4 compartments in a rack (c1-c4) each with a capacity of 500 units.\n",
    "\n"
   ]
  },
  {
   "cell_type": "code",
   "execution_count": null,
   "metadata": {},
   "outputs": [],
   "source": [
    "del m.compartments[:] # in case you run this twice\n",
    "for i in range(0,4):\n",
    "    comp = ivr8_yni1c9k2swof_pb2.Compartment()\n",
    "    comp.id = \"c\" + str(i+1)\n",
    "    compcap = ivr8_yni1c9k2swof_pb2.Compartment.Capacity()\n",
    "    compcap.dimensionId = 'capacity'\n",
    "    compcap.capacity = 400 \n",
    "    comp.capacities.append(compcap)\n",
    "    m.compartments.append(comp)\n",
    "print(m.compartments)"
   ]
  },
  {
   "cell_type": "markdown",
   "metadata": {},
   "source": [
    "### Compartment - task constraints\n",
    "Now we can go back through the tasks and allocate them to allowable compartments. This is normal in fuel delivery systems where you have diesel/petrol constraints. We're just going to decide on which jobs may go in which compartments based on the index (because this example is fictional), and lets see if that's feasible. Obviously, you'll create it using proper logic based on the business rules."
   ]
  },
  {
   "cell_type": "code",
   "execution_count": null,
   "metadata": {},
   "outputs": [],
   "source": [
    "for i, j in enumerate(m.jobs):\n",
    "    relation = ivr8_yni1c9k2swof_pb2.Job.CompartmentRelation()\n",
    "    relation.type = 0 # 0 for inclusions, 1 for exclusions\n",
    "    if (i + 1) % 2 == 0:\n",
    "        relation.compartmentIds.append('c1')\n",
    "        relation.compartmentIds.append('c3')\n",
    "    else:\n",
    "        relation.compartmentIds.append('c2')\n",
    "        relation.compartmentIds.append('c4')\n",
    "    j.compartmentRelations.CopyFrom(relation)\n",
    "\n",
    "print(m.jobs[0]) # so here we can see we're allowed c2 and c4 as compartment assignments for this task"
   ]
  },
  {
   "cell_type": "code",
   "execution_count": null,
   "metadata": {},
   "outputs": [],
   "source": [
    "del m.compartmentSets[:] # in case you run this twice\n",
    "cset = ivr8_yni1c9k2swof_pb2.CompartmentSet()\n",
    "cset.id = 'tanker'\n",
    "for i in range(0,4):\n",
    "    cset.compartmentIds.append('c' + str(i + 1)) #indicates that this compartment set has c1:c8 available.\n",
    "m.compartmentSets.append(cset) # add it to the model\n",
    "\n",
    "print('Compartment set:')\n",
    "print(m.compartmentSets)\n",
    "# Here we assign the compartment set to the vehicle class (which would then apply to all vehicles in that class) \n",
    "m.vehicleClasses[0].compartmentSetId = 'tanker'"
   ]
  },
  {
   "cell_type": "markdown",
   "metadata": {},
   "source": [
    "## Run the model\n",
    "\n",
    "Now we can follow the normal process of submitting the model to the api and running it!\n"
   ]
  },
  {
   "cell_type": "code",
   "execution_count": null,
   "metadata": {},
   "outputs": [],
   "source": [
    "exec(open('apiHelper.py').read()) # import some api-helper classes which we've written for you.\n",
    "reqId = api.Post(sr)\n",
    "sol = api.Get(reqId)\n",
    "t = tabulate(sr, sol)\n"
   ]
  },
  {
   "cell_type": "markdown",
   "metadata": {},
   "source": [
    "### Reading the response\n",
    "We can see in the tabulated response that there is now a `compartmentId` field which gives the allocation of tasks to compartments in the solution. This view of the response is useful, but we can check another view we've coded up to understand now the vehicle behaves over the course of the route.\n",
    "\n",
    "Lets have a look at the `compartmentSummary` table:"
   ]
  },
  {
   "cell_type": "code",
   "execution_count": null,
   "metadata": {},
   "outputs": [],
   "source": [
    "csummary = t['compartmentSummary']\n",
    "csummary[list(csummary.keys())[0]] # just grab the compartment summary for the first vehicle.\n"
   ]
  },
  {
   "cell_type": "markdown",
   "metadata": {},
   "source": [
    "The compartment summary is nice - but it doesn't tell us whether we stuck to the constraints around the relations for each of the jobs. So lets just build a data-frame of allowable compartments per job and join it to the normal response\n"
   ]
  },
  {
   "cell_type": "code",
   "execution_count": null,
   "metadata": {},
   "outputs": [],
   "source": [
    "cols = ['jobId', 'allowableCompartments']\n",
    "jdata = pandas.DataFrame(columns=cols)\n",
    "\n",
    "idx = 0\n",
    "for i, j in enumerate(m.jobs):\n",
    "    jdata.loc[idx] = list([j.id, ','.join(j.compartmentRelations.compartmentIds)])\n",
    "    idx +=1\n",
    "\n",
    "nodes = t['nodes']\n",
    "\n",
    "pandas.merge(nodes[['taskId', 'compartmentId', 'jobId']],jdata,left_on='jobId', right_on='jobId', how = 'left')\n"
   ]
  },
  {
   "cell_type": "markdown",
   "metadata": {},
   "source": [
    "So that's nice, we can see that at each task assignment we only used compartments which were in the allowable set we provided the api. It's probably worth noting that the default is all compartments in a compartment-set are allowed so you can either specify an inclusive sub-set, or excluded sub-set.\n",
    "If all compartments are excluded then the api will let you know that there's no feasible allocation.\n"
   ]
  },
  {
   "cell_type": "markdown",
   "metadata": {},
   "source": [
    "### What next?\n",
    "If you've made it to this point and worked through the ivr7 examples then you're probably ready to implement you own model!\n",
    "Good luck and if you need any help feel free to pop us a mail (info@icepack.co) or open a github issue with your query."
   ]
  }
 ],
 "metadata": {
  "kernelspec": {
   "display_name": "Python 3",
   "language": "python",
   "name": "python3"
  },
  "language_info": {
   "codemirror_mode": {
    "name": "ipython",
    "version": 3
   },
   "file_extension": ".py",
   "mimetype": "text/x-python",
   "name": "python",
   "nbconvert_exporter": "python",
   "pygments_lexer": "ipython3",
   "version": "3.6.9"
  }
 },
 "nbformat": 4,
 "nbformat_minor": 4
}
