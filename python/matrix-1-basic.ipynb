{
 "cells": [
  {
   "cell_type": "markdown",
   "metadata": {},
   "source": [
    "# Matrix-model Basic Example\n",
    "This example aims to highlight the follow:\n",
    "* build a complete matrix of distances/times between a collection of locations\n",
    "\n",
    "## Requirements\n",
    "This example assumes you've configured an api-key with the required services enabled (see the [portal](portal.icepack.ai) for configuration details) and that you're familiar with loading and working with protobuf models.\n",
    "\n",
    "## Data\n",
    "We're going to load a small sample data set (just 5 locations) which will yeild 20 distance pairs.\n"
   ]
  },
  {
   "cell_type": "code",
   "execution_count": null,
   "metadata": {},
   "outputs": [],
   "source": [
    "import pandas\n",
    "df = pandas.read_csv('../sample_data/publist.csv').head(5)\n",
    "print(df.head())"
   ]
  },
  {
   "cell_type": "markdown",
   "metadata": {},
   "source": [
    "## Model helper\n",
    "There are several common code-snippets which are useful when working with the icepack models. We use the same standard for post/get queries for all models. We're going to use the api helper in this context to help manage the calls to the api.\n",
    "\n",
    "We're going to:\n",
    "1. load the helper\n",
    "2. instantiate a matrix model request\n",
    "3. populate the request\n",
    "4. post the request (helper class)\n",
    "5. get the response (helper class)\n",
    "\n",
    "### Build the request"
   ]
  },
  {
   "cell_type": "code",
   "execution_count": null,
   "metadata": {},
   "outputs": [],
   "source": [
    "exec(open('apiHelper.py').read()) # import some api-helper classes which we've written for you.\n",
    "\n",
    "api = apiHelper(modelType=\"matrix-vyv95n7wchpl\") # set the model type to the matrix model\n",
    "\n",
    "mr = matrix_vyv95n7wchpl_pb2.MatrixRequest()\n",
    "\n",
    "for index, row in df.iterrows():\n",
    "    l = matrix_vyv95n7wchpl_pb2.Location()\n",
    "    l.id = row.id\n",
    "    l.geocode.longitude = row.X\n",
    "    l.geocode.latitude = row.Y\n",
    "    mr.locations.append(l)                    # add the location definition to the list of locations\n",
    "    mr.sources.append(row.id)                 # add the id to the list of sources\n",
    "\n",
    "mr.distanceUnit = 0\n",
    "mr.durationUnit = 1\n",
    "print(mr)\n"
   ]
  },
  {
   "cell_type": "markdown",
   "metadata": {},
   "source": [
    "So this model has 5 locations and 5 sources. In the world of the matrix model this means that we want a complete matrix between these 5 locations (because the destinations have been omitted). \n",
    "\n",
    "### Send the request to the api\n",
    "Because we're using a common interface we can use the apihelper Post and Get methods to send and retrieve the result"
   ]
  },
  {
   "cell_type": "code",
   "execution_count": null,
   "metadata": {},
   "outputs": [],
   "source": [
    "reqId = api.Post(mr)  # send the request\n",
    "print(reqId) # if you want to see what the guid looks like.\n",
    "sol = api.Get(reqId)  # get the response\n"
   ]
  },
  {
   "cell_type": "code",
   "execution_count": null,
   "metadata": {},
   "outputs": [],
   "source": [
    "print(len(sol.elements)) # the number of elements returned by the api"
   ]
  },
  {
   "cell_type": "code",
   "execution_count": null,
   "metadata": {},
   "outputs": [],
   "source": [
    "print(sol.elements[1:3]) # the first two elements, we can see the distance and duration."
   ]
  },
  {
   "cell_type": "markdown",
   "metadata": {},
   "source": [
    "### Some notes\n",
    "You'll see we get 20 elements in the response from the api - which is 5*(5-1) (because the diagonal is always zero.)\n",
    "\n",
    "We can tabulate the response by calling the `tabulate` method we've bundled here."
   ]
  },
  {
   "cell_type": "code",
   "execution_count": null,
   "metadata": {},
   "outputs": [],
   "source": [
    "matrix = tabulate(mr, sol)\n",
    "matrix\n"
   ]
  },
  {
   "cell_type": "markdown",
   "metadata": {},
   "source": [
    "This matrix is expressed in long-form. Nothing wrong with that, but you might prefer to see it in wide form. Pandas has a nice function for this.\n"
   ]
  },
  {
   "cell_type": "code",
   "execution_count": null,
   "metadata": {},
   "outputs": [],
   "source": [
    "import numpy as np\n",
    "dm = pandas.crosstab(index= matrix['fromId'], \n",
    "                columns=matrix['toId'], \n",
    "                values = matrix['distance'], aggfunc = np.sum).fillna(0)\n",
    "\n",
    "# this creates a distance matrix \n",
    "dm"
   ]
  },
  {
   "cell_type": "code",
   "execution_count": null,
   "metadata": {},
   "outputs": [],
   "source": [
    "tm = pandas.crosstab(index= matrix['fromId'], \n",
    "                columns=matrix['toId'], \n",
    "                values = matrix['duration'], aggfunc = np.sum).fillna(0)\n",
    "#and this creates a time matrix\n",
    "tm"
   ]
  },
  {
   "cell_type": "markdown",
   "metadata": {},
   "source": [
    "### What next?\n",
    "Now that you've mastered this basic example - lets try something a little trickier (see the intermediate example next)."
   ]
  }
 ],
 "metadata": {
  "kernelspec": {
   "display_name": "Python 3",
   "language": "python",
   "name": "python3"
  },
  "language_info": {
   "codemirror_mode": {
    "name": "ipython",
    "version": 3
   },
   "file_extension": ".py",
   "mimetype": "text/x-python",
   "name": "python",
   "nbconvert_exporter": "python",
   "pygments_lexer": "ipython3",
   "version": "3.6.9"
  }
 },
 "nbformat": 4,
 "nbformat_minor": 4
}
